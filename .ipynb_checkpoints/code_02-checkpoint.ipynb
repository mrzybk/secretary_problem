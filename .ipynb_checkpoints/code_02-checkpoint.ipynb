{
 "cells": [
  {
   "cell_type": "code",
   "execution_count": 2,
   "metadata": {},
   "outputs": [
    {
     "data": {
      "text/plain": [
       "<sqlite3.Cursor at 0x22fb0193110>"
      ]
     },
     "execution_count": 2,
     "metadata": {},
     "output_type": "execute_result"
    }
   ],
   "source": [
    "import data_generation_functions as dgf\n",
    "import learning_algorithms_functions as laf\n",
    "import classical_methods_functions as cmf\n",
    "import simulation_functions as sf\n",
    "import visualization_functions as vf\n",
    "import numerical_methods as nm\n",
    "import time\n",
    "\n",
    "import numpy as np\n",
    "import pandas as pd\n",
    "import matplotlib.pyplot as plt\n",
    "%matplotlib inline\n",
    "\n",
    "\n",
    "e=np.exp(1)\n",
    "\n",
    "from sklearn.linear_model import LinearRegression\n",
    "\n",
    "\n",
    "import pickle #it is used for importing/exporting variables\n",
    "def save_obj(obj, name ):\n",
    "    #Saves the existing variable in the workspace\n",
    "    with open(name + '.pkl', 'wb') as f:\n",
    "        pickle.dump(obj, f, pickle.HIGHEST_PROTOCOL)\n",
    "\n",
    "def load_obj(name ):\n",
    "    #Loads a variable (already saved) from folder 'obj'\n",
    "    with open(name + '.pkl', 'rb') as f:\n",
    "        return pickle.load(f)\n",
    "    \n",
    "    \n",
    "def intersect_intervals(a,b,epsilon):\n",
    "    x=max(a[0],b[0])\n",
    "    y=min(a[1],b[1])\n",
    "    return (x-epsilon,y+epsilon)\n",
    "\n",
    "\n",
    "\n",
    "\n",
    "#exp_utility=load_obj('exp_utility')\n",
    "\n",
    "\n",
    "#db_address=r\"C:\\Users\\lackent\\Documents\\footdatabaseproject\\myfootdatabase.db\"\n",
    "\n",
    "db_address=r\"secretary_problem_db.db\"\n",
    "\n",
    "import sqlite3\n",
    "conn = sqlite3.connect(db_address)\n",
    "cur=conn.cursor()\n",
    "cur"
   ]
  },
  {
   "cell_type": "code",
   "execution_count": null,
   "metadata": {},
   "outputs": [],
   "source": [
    "problem=3\n",
    "k=1\n",
    "s=1\n",
    "Ns=[10,11,12,13]\n",
    "\n",
    "\n",
    "\n",
    "            \n",
    "for Ns in [[i] for i in range(100,1111)]:\n",
    "    for problem in [2,3]:\n",
    "        for k in [i for i in range(1,11)]+[15,20,25]:\n",
    "            for s in range(1,k+1):\n",
    "                asdasfasd=nm.alpha_threshold_finder_for_multiple_N(Ns,problem,k,s)\n",
    "                asdasfasd=nm.beta_threshold_finder_for_multiple_N(Ns,problem,k,s)"
   ]
  },
  {
   "cell_type": "code",
   "execution_count": null,
   "metadata": {},
   "outputs": [],
   "source": [
    "q=\"select * from alphas where problem = {} and k={} and s={}\".format(problem,k,s)\n",
    "df=pd.read_sql_query(q,conn)\n",
    "df[df.n==11].iloc[0]['n']"
   ]
  },
  {
   "cell_type": "code",
   "execution_count": null,
   "metadata": {},
   "outputs": [],
   "source": [
    "N=10\n",
    "k=5\n",
    "U=cmf.create_payoff_array(N,2,k)\n",
    "#print(U)\n",
    "D,E,dyn_hiring_rule=cmf.dynamic_solution_general_form(N,U)\n",
    "print(E[0][0])\n",
    "vf.plot_decision_graph(D,if_latex=True)\n",
    "find_threshold_interval(D,4)"
   ]
  },
  {
   "cell_type": "code",
   "execution_count": null,
   "metadata": {},
   "outputs": [],
   "source": [
    "fast_classic_secretary_solver(N)"
   ]
  },
  {
   "cell_type": "code",
   "execution_count": null,
   "metadata": {},
   "outputs": [],
   "source": [
    "Ns=[i for i in range(101,151,1)]\n",
    "problem=2\n",
    "k=5\n",
    "s=3\n",
    "theory_solution=1/e\n",
    "\n",
    "\n",
    "#y_a,y_l,y_u,y_pol_a,y_aN,y_polN_a=nm.alpha_threshold_finder_for_multiple_N(Ns,problem,k,s)\n",
    "y_b,y_l,y_u,y_pol_b,y_bN,y_polN_b=nm.beta_threshold_finder_for_multiple_N(Ns,problem,k,s)\n",
    "\n",
    "#theory_solution=2/3\n",
    "\n",
    "\n"
   ]
  },
  {
   "cell_type": "code",
   "execution_count": null,
   "metadata": {},
   "outputs": [],
   "source": [
    "y_a,y_l,y_u,y_pol_a,y_aN,y_polN_a=nm.alpha_threshold_finder_for_multiple_N(Ns,problem,k,s)\n",
    "a,b,c=nm.extrapolate_the_thresholds(Ns,y_polN_a,func_family='f2')\n",
    "if a>0 and a<1:\n",
    "    print('alpha_{}'.format(s),a,b,c)\n",
    "\n",
    "y_a,y_l,y_u,y_pol_a,y_aN,y_polN_a=nm.beta_threshold_finder_for_multiple_N(Ns,problem,k,s)\n",
    "a,b,c=nm.extrapolate_the_thresholds(Ns,y_polN_a,func_family='f2')\n",
    "if a>0 and a<1:\n",
    "    print('beta_{}'.format(s),a,b,c)"
   ]
  },
  {
   "cell_type": "code",
   "execution_count": null,
   "metadata": {},
   "outputs": [],
   "source": [
    "def get_theory_solution(problem,k,s,if_alpha=True):\n",
    "    if if_alpha:\n",
    "        if problem==2 and k==3 and s==3:\n",
    "            theory_solution_alpha=1/np.sqrt(e)\n",
    "        elif problem==2 and k==3 and s==2:\n",
    "            theory_solution_alpha=2/(2*np.sqrt(e)+np.sqrt(4*e-6*np.sqrt(e)))\n",
    "        elif problem==2 and k==2 and s==2:\n",
    "            theory_solution_alpha=0.5\n",
    "        elif problem<=3 and k==1 and s==1:\n",
    "            theory_solution_alpha=1/e\n",
    "        elif problem==3 and k==2 and s==2:\n",
    "            theory_solution_alpha=2/3\n",
    "        else:\n",
    "            theory_solution_alpha=0\n",
    "        return theory_solution_alpha\n",
    "    else:\n",
    "        return 0\n",
    "    \n",
    "    \n",
    "def fraction_predictor(d):\n",
    "    x,y=1,2\n",
    "    err=1\n",
    "    while err>0.00001 and x+y<100:\n",
    "        if np.abs((x+1)/y-d)< np.abs(x/(y+1)-d):\n",
    "            x+=1\n",
    "        else:\n",
    "            y+=1\n",
    "        err=np.abs(x/y-d)\n",
    "    if x+y<100:    \n",
    "        print(d,x,y,x/y)\n",
    "    return x,y\n",
    "    "
   ]
  },
  {
   "cell_type": "code",
   "execution_count": null,
   "metadata": {},
   "outputs": [],
   "source": [
    "#Print table contents\n",
    "clf = LinearRegression(fit_intercept=True)\n",
    "clf.fit([[i] for i in Ns],y_polN_a)\n",
    "\n",
    "Is=[range(101,121),range(201,221),range(301,321),range(401,421),range(501,521),range(901,921),range(1001,1021)\n",
    "   ,range(101,201),range(201,301),range(301,401),range(401,501),range(501,601),range(901,1001),range(1001,1101)\n",
    "   ,range(101,1101)\n",
    "   ,range(11,1242)]\n",
    "Is=[range(100,850)]\n",
    "\n",
    "for Ns in Is:\n",
    "    y_a,y_l,y_u,y_pol_a,y_aN,y_polN_a=nm.alpha_threshold_finder_for_multiple_N(Ns,problem,k,s)\n",
    "    clf.fit([[i] for i in Ns],y_polN_a)\n",
    "    theory_solution_alpha=get_theory_solution(problem,k,s,True)\n",
    "    \n",
    "    a,b=extrapolate_the_thresholds(Ns,y_polN_a,func_family='f1')\n",
    "\n",
    "    if theory_solution_alpha>0:\n",
    "        print('{} & {}{}, {}, ..., {}{} & {}n {} & {}\\\\\\ \\hline'.format(len(Ns),\"$\\{\",Ns[0],Ns[1],Ns[-1],\"\\}$\",np.round(a,7),np.round(b,7),np.round((a-theory_solution_alpha)*10**6,2)))\n",
    "\n",
    "        \n",
    "print('\\n\\n')\n",
    "for k in range(1,11):\n",
    "    print('k: {}'.format(k))\n",
    "    for s in range(1,k+1):\n",
    "        print('s: {}'.format(s))\n",
    "        theory_solution_alpha=get_theory_solution(problem,k,s,True)\n",
    "        for Ns in Is:\n",
    "            y_a,y_l,y_u,y_pol_a,y_aN,y_polN_a=nm.alpha_threshold_finder_for_multiple_N(Ns,problem,k,s)\n",
    "            a,b,c=extrapolate_the_thresholds(Ns,y_polN_a,func_family='f2')\n",
    "            \n",
    "            fraction_predictor(a)\n",
    "            fraction_predictor(b)\n",
    "\n",
    "            if theory_solution_alpha>0:\n",
    "                print('{} & {}{}, {}, ..., {}{} & {}n{}+{}/n & {} \\\\\\ \\hline'.format(len(Ns),\"$\\{\",Ns[0],Ns[1],Ns[-1],\"\\}$\",np.round(a,7),np.round(b,7),np.round(c,7),np.round((a-theory_solution_alpha)*10**6,4)))\n",
    "            else:\n",
    "                print('{} & {}{}, {}, ..., {}{} & {}n{}+{}/n & {} \\\\\\ \\hline'.format(len(Ns),\"$\\{\",Ns[0],Ns[1],Ns[-1],\"\\}$\",np.round(a,7),np.round(b,7),np.round(c,7),'...'))\n",
    "            "
   ]
  },
  {
   "cell_type": "code",
   "execution_count": null,
   "metadata": {},
   "outputs": [],
   "source": [
    "\n",
    "        "
   ]
  },
  {
   "cell_type": "code",
   "execution_count": null,
   "metadata": {},
   "outputs": [],
   "source": [
    "#Print table contents\n",
    "eps_1,eps_2=[],[]\n",
    "clf = LinearRegression(fit_intercept=True)\n",
    "ms=range(201,700,1)\n",
    "for r in [50,100]:\n",
    "    eps_1.append([])\n",
    "    eps_2.append([])\n",
    "    \n",
    "    clf.fit([[i] for i in Ns],y_polN_a)\n",
    "\n",
    "    Is=[range(me-r,me+r) for me in ms]\n",
    "\n",
    "\n",
    "    for Ns in Is:\n",
    "        y_a,y_l,y_u,y_pol_a,y_aN,y_polN_a=nm.alpha_threshold_finder_for_multiple_N(Ns,problem,k,s)\n",
    "        clf.fit([[i] for i in Ns],y_polN_a)\n",
    "\n",
    "        b=clf.predict([[0]])[0]\n",
    "        a=clf.predict([[1]])[0]-b\n",
    "        \n",
    "        eps_1[-1].append((a-theory_solution_alpha))\n",
    "\n",
    "    print('\\n\\n')\n",
    "    for Ns in Is:\n",
    "        y_a,y_l,y_u,y_pol_a,y_aN,y_polN_a=nm.alpha_threshold_finder_for_multiple_N(Ns,problem,k,s)\n",
    "        clf.fit([[i,1/i] for i in Ns],y_polN_a)\n",
    "        b=clf.predict([[0,0]])[0]\n",
    "        a=clf.predict([[1,0]])[0]-b\n",
    "        c=clf.predict([[0,1]])[0]-b\n",
    "\n",
    "        eps_2[-1].append((a-theory_solution_alpha))\n",
    "        \n",
    "'''       \n",
    "    plt.plot(mes,eps_1)\n",
    "    plt.plot(mes,eps_2)\n",
    "plt.legend(['f(n)=an+b & r=50','f(n)=an+b+c/n & r=50', 'f(n)=an+b & r=100','f(n)=an+b+c/n & r=100'])\n",
    "''' "
   ]
  },
  {
   "cell_type": "code",
   "execution_count": null,
   "metadata": {},
   "outputs": [],
   "source": [
    "fig1, (ax1) = plt.subplots(1, 1)\n",
    "fig1.set_size_inches(5,5)\n",
    "\n",
    "fig2, ax2 = plt.subplots(1, 1)\n",
    "fig2.set_size_inches(5,5)\n",
    "\n",
    "ax1.plot(ms,[0 for m in ms],'black',alpha=0.2)\n",
    "ax1.plot(ms,eps_1[0])\n",
    "ax1.plot(ms,eps_1[-1])\n",
    "ax1.legend(['_','r=50','r=100'])\n",
    "\n",
    "ax2.plot(ms,[0 for m in ms],'black',alpha=0.2)\n",
    "ax2.plot(ms,eps_2[0])\n",
    "ax2.plot(ms,eps_2[-1])\n",
    "ax2.legend(['_','r=50','r=100'])\n",
    "\n",
    "\n",
    "y1l,y1u=ax1.get_ylim()\n",
    "y2l,y2u=ax2.get_ylim()\n",
    "\n",
    "ax1.set_ylim(min(y1l,y2l)*1.1,max(y1u,y2u)*1.1)\n",
    "ax2.set_ylim(min(y1l,y2l)*1.1,max(y1u,y2u)*1.1)\n",
    "\n",
    "ax1.set_xlabel('m')\n",
    "ax1.set_ylabel('$ϵ$_a')\n",
    "\n",
    "ax2.set_xlabel('m')\n"
   ]
  },
  {
   "cell_type": "code",
   "execution_count": null,
   "metadata": {},
   "outputs": [],
   "source": [
    "fig, (ax1, ax2) = plt.subplots(1, 2)\n",
    "fig.set_size_inches(11,5)\n",
    "\n",
    "ax1.plot(ms,[0 for m in ms],'black',alpha=0.2)\n",
    "ax1.plot(ms,eps_1[0])\n",
    "ax1.plot(ms,eps_1[-1])\n",
    "ax1.legend(['_','r=50','r=100'])\n",
    "\n",
    "ax2.plot(ms,[0 for m in ms],'black',alpha=0.2)\n",
    "ax2.plot(ms,eps_2[0])\n",
    "ax2.plot(ms,eps_2[-1])\n",
    "ax2.legend(['_','r=50','r=100'])\n",
    "\n",
    "\n",
    "y1l,y1u=ax1.get_ylim()\n",
    "y2l,y2u=ax2.get_ylim()\n",
    "\n",
    "ax1.set_ylim(min(y1l,y2l)*1.1,max(y1u,y2u)*1.1)\n",
    "ax2.set_ylim(min(y1l,y2l)*1.1,max(y1u,y2u)*1.1)\n",
    "\n",
    "ax1.set_xlabel('m')\n",
    "ax1.set_ylabel('$ϵ$_a')\n",
    "\n",
    "ax2.set_xlabel('m')\n"
   ]
  },
  {
   "cell_type": "code",
   "execution_count": null,
   "metadata": {},
   "outputs": [],
   "source": [
    "plt.plot(mes,eps_1)\n",
    "plt.plot(mes,eps_2)\n",
    "plt.legend(['f(n)=an+b','f(n)=an+b+c/n'])\n",
    "#plt.rc('text', usetex=True)\n",
    "plt.xlabel('m')\n",
    "plt.ylabel('$ϵ$_a')"
   ]
  },
  {
   "cell_type": "code",
   "execution_count": null,
   "metadata": {},
   "outputs": [],
   "source": [
    "sum(eps_2[1])/len(eps_2[1])*10**6"
   ]
  },
  {
   "cell_type": "code",
   "execution_count": null,
   "metadata": {},
   "outputs": [],
   "source": [
    "eps_1[1][-1]"
   ]
  },
  {
   "cell_type": "code",
   "execution_count": null,
   "metadata": {},
   "outputs": [],
   "source": [
    "min(eps_2[1]),max(eps_2[1])"
   ]
  },
  {
   "cell_type": "code",
   "execution_count": null,
   "metadata": {},
   "outputs": [],
   "source": [
    "Ls=[10,25,50,100,500]\n",
    "x_pos=1\n",
    "\n",
    "fig, (ax1, ax2) = plt.subplots(1, 2)\n",
    "fig.suptitle('f(n)=an+b vs f(n)=an+b+c/n')\n",
    "\n",
    "fig.set_size_inches(11,5)\n",
    "\n",
    "\n",
    "if theory_solution_alpha>0:\n",
    "    ax1.plot([i for i in range(1,len(Ls)+1)],[theory_solution_alpha for i in range(1,len(Ls)+1)],alpha=0.5)\n",
    "    ax2.plot([i for i in range(1,len(Ls)+1)],[theory_solution_alpha for i in range(1,len(Ls)+1)],alpha=0.5)\n",
    "\n",
    "\n",
    "for L in Ls:\n",
    "    J=[]\n",
    "    for c in range(1000):\n",
    "        indices=np.random.choice([i for i in range(len(Ns))],L,replace=False)\n",
    "\n",
    "        clf = LinearRegression(fit_intercept=True)\n",
    "        clf.fit([[Ns[i]] for i in indices],[y_polN_a[i] for i in indices])\n",
    "\n",
    "        b=clf.predict([[0]])[0]\n",
    "        a=clf.predict([[1]])[0]-b\n",
    "        #if b<0:\n",
    "            #print('alpha_{}'.format(s),'{}n{}'.format(a,b))\n",
    "        #else:\n",
    "            #print('alpha_{}'.format(s),'{}n+{}'.format(a,b))\n",
    "        J.append(['I: {{}}'.format(Ns),problem,k,'alpha_{}'.format(s),a,b])\n",
    "    dfJ=pd.DataFrame(J)\n",
    "    ax1.boxplot(dfJ[4],positions=[x_pos],showfliers=False)\n",
    "    x_pos+=1\n",
    "    \n",
    "\n",
    "#plt.xticks([i for i in range(1,x_pos)],labels=Ls)\n",
    "\n",
    "\n",
    "\n",
    "x_pos=1\n",
    "for L in Ls:\n",
    "    J=[]\n",
    "    for c in range(1000):\n",
    "        indices=np.random.choice([i for i in range(len(Ns))],L,replace=False)\n",
    "\n",
    "        clf = LinearRegression(fit_intercept=True)\n",
    "        clf.fit([[Ns[i],1/(Ns[i]**2)] for i in indices],[y_polN_a[i] for i in indices])\n",
    "\n",
    "        b=clf.predict([[0,0]])[0]\n",
    "        a=clf.predict([[1,0]])[0]-b\n",
    "        c=clf.predict([[0,1]])[0]-b\n",
    "        #if b<0:\n",
    "            #print('alpha_{}'.format(s),'{}n{}'.format(a,b))\n",
    "        #else:\n",
    "            #print('alpha_{}'.format(s),'{}n+{}'.format(a,b))\n",
    "        J.append(['I: {{}}'.format(Ns),problem,k,'alpha_{}'.format(s),a,b,c])\n",
    "    dfJ=pd.DataFrame(J)\n",
    "    ax2.boxplot(dfJ[4],positions=[x_pos],showfliers=False)\n",
    "    x_pos+=1\n",
    "    \n",
    "y1l,y1u=ax1.get_ylim()\n",
    "y2l,y2u=ax2.get_ylim()\n",
    "\n",
    "ax1.set_ylim(min(y1l,y2l),max(y1u,y2u))\n",
    "ax2.set_ylim(min(y1l,y2l),max(y1u,y2u))\n",
    "\n",
    "\n",
    "#ax1.xticks=([i for i in range(1,x_pos)],labels=Ls)\n",
    "ax1.set_xlabel('Size of the input set I')\n",
    "ax2.set_xlabel('Size of the input set I')\n",
    "ax1.set_ylabel('a')\n",
    "\n",
    "ax1.set_xticklabels(Ls)\n",
    "ax2.set_xticklabels(Ls)\n",
    "\n",
    "for ax in fig.get_axes():\n",
    "    ax.label_outer()\n",
    "    \n",
    "ax1.legend(['theoritical value of a'])\n",
    "ax2.legend(['theoritical value of a'])"
   ]
  },
  {
   "cell_type": "code",
   "execution_count": null,
   "metadata": {},
   "outputs": [],
   "source": [
    "#delete this\n",
    "A=300\n",
    "Ls=[i for i in range(0,len(Ns)-A+1,50)]\n",
    "x_pos=1\n",
    "\n",
    "fig, (ax1, ax2) = plt.subplots(1, 2)\n",
    "fig.suptitle('f(n)=an+b vs f(n)=an+b+c/n')\n",
    "\n",
    "fig.set_size_inches(11,5)\n",
    "\n",
    "\n",
    "\n",
    "for L in Ls:\n",
    "    J=[]\n",
    "    for c in range(1):\n",
    "        indices=[L+l_ for l_ in range(A)]\n",
    "        clf = LinearRegression(fit_intercept=True)\n",
    "        clf.fit([[Ns[i]] for i in indices],[y_polN_a[i] for i in indices])\n",
    "\n",
    "        b=clf.predict([[0]])[0]\n",
    "        a=clf.predict([[1]])[0]-b\n",
    "        #if b<0:\n",
    "            #print('alpha_{}'.format(s),'{}n{}'.format(a,b))\n",
    "        #else:\n",
    "            #print('alpha_{}'.format(s),'{}n+{}'.format(a,b))\n",
    "        J.append(['I: {{}}'.format(Ns),problem,k,'alpha_{}'.format(s),a,b])\n",
    "    dfJ=pd.DataFrame(J)\n",
    "    ax1.boxplot(dfJ[4],positions=[x_pos],showfliers=False)\n",
    "    x_pos+=1\n",
    "    print(L+min(Ns),L+A+min(Ns)-1,dfJ[4][0])\n",
    "    \n",
    "\n",
    "#plt.xticks([i for i in range(1,x_pos)],labels=Ls)\n",
    "if theory_solution_alpha>0:\n",
    "    ax1.plot([i for i in range(1,x_pos)],[theory_solution_alpha for i in range(1,x_pos)],alpha=0.5)\n",
    "    ax2.plot([i for i in range(1,x_pos)],[theory_solution_alpha for i in range(1,x_pos)],alpha=0.5)\n",
    "\n",
    "x_pos=1\n",
    "print('---------\\n---------\\n---------\\n')\n",
    "for L in Ls:\n",
    "    J=[]\n",
    "    for c in range(1):\n",
    "        indices=[L+l_ for l_ in range(A)]\n",
    "\n",
    "        clf = LinearRegression(fit_intercept=True)\n",
    "        clf.fit([[Ns[i],1/Ns[i]] for i in indices],[y_polN_a[i] for i in indices])\n",
    "\n",
    "        b=clf.predict([[0,0]])[0]\n",
    "        a=clf.predict([[1,0]])[0]-b\n",
    "        c=clf.predict([[0,1]])[0]-b\n",
    "        #if b<0:\n",
    "            #print('alpha_{}'.format(s),'{}n{}'.format(a,b))\n",
    "        #else:\n",
    "            #print('alpha_{}'.format(s),'{}n+{}'.format(a,b))\n",
    "        J.append(['I: {{}}'.format(Ns),problem,k,'alpha_{}'.format(s),a,b,c])\n",
    "    dfJ=pd.DataFrame(J)\n",
    "    ax2.boxplot(dfJ[4],positions=[x_pos],showfliers=False)\n",
    "    x_pos+=1\n",
    "    print(L+min(Ns),L+A+min(Ns)-1,dfJ[4][0])\n",
    "    \n",
    "y1l,y1u=ax1.get_ylim()\n",
    "y2l,y2u=ax2.get_ylim()\n",
    "\n",
    "ax1.set_ylim(min(y1l,y2l),max(y1u,y2u))\n",
    "ax2.set_ylim(min(y1l,y2l),max(y1u,y2u))\n",
    "\n",
    "\n",
    "#ax1.xticks=([i for i in range(1,x_pos)],labels=Ls)\n",
    "ax1.set_xlabel('Size of the input set I')\n",
    "ax2.set_xlabel('Size of the input set I')\n",
    "ax1.set_ylabel('a')\n",
    "\n",
    "ax1.set_xticklabels(Ls)\n",
    "ax2.set_xticklabels(Ls)\n",
    "\n",
    "for ax in fig.get_axes():\n",
    "    ax.label_outer()"
   ]
  },
  {
   "cell_type": "code",
   "execution_count": null,
   "metadata": {},
   "outputs": [],
   "source": [
    "dfJ[4][0], theory_solution_alpha"
   ]
  },
  {
   "cell_type": "code",
   "execution_count": null,
   "metadata": {},
   "outputs": [],
   "source": [
    "dfJ[4][0], theory_solution_alpha"
   ]
  },
  {
   "cell_type": "code",
   "execution_count": null,
   "metadata": {},
   "outputs": [],
   "source": [
    "ind_s=870\n",
    "plt.plot(Ns[ind_s:],y_pol_a[ind_s:])\n",
    "#plt.plot(Ns[ind_s:],y_a[ind_s:])\n",
    "plt.plot(Ns[ind_s:],[a+b/n+c/n/n for n in Ns[ind_s:]])"
   ]
  },
  {
   "cell_type": "code",
   "execution_count": null,
   "metadata": {},
   "outputs": [],
   "source": [
    "a,b,c"
   ]
  },
  {
   "cell_type": "code",
   "execution_count": null,
   "metadata": {},
   "outputs": [],
   "source": [
    "fig.set_size_inches(5,10)"
   ]
  },
  {
   "cell_type": "code",
   "execution_count": null,
   "metadata": {},
   "outputs": [],
   "source": [
    "rnd=5\n",
    "(np.floor(theory_solution*10**rnd)/10**rnd,np.ceil(theory_solution*10**rnd)/10**rnd)"
   ]
  },
  {
   "cell_type": "code",
   "execution_count": null,
   "metadata": {},
   "outputs": [],
   "source": []
  },
  {
   "cell_type": "code",
   "execution_count": null,
   "metadata": {},
   "outputs": [],
   "source": [
    "Ls=[10,25,50,100]\n",
    "x_pos=1\n",
    "\n",
    "for L in Ls:\n",
    "    J=[]\n",
    "    for c in range(100):\n",
    "        indices=np.random.choice([i for i in range(len(Ns))],L,replace=False)\n",
    "\n",
    "        clf = LinearRegression(fit_intercept=True)\n",
    "        clf.fit([[Ns[i],1/Ns[i]] for i in indices],[y_polN_a[i] for i in indices])\n",
    "\n",
    "        b=clf.predict([[0,0]])[0]\n",
    "        a=clf.predict([[1,0]])[0]-b\n",
    "        c=clf.predict([[0,1]])[0]-b\n",
    "        #if b<0:\n",
    "            #print('alpha_{}'.format(s),'{}n{}'.format(a,b))\n",
    "        #else:\n",
    "            #print('alpha_{}'.format(s),'{}n+{}'.format(a,b))\n",
    "        J.append(['I: {{}}'.format(Ns),problem,k,'alpha_{}'.format(s),a,b,c])\n",
    "    dfJ=pd.DataFrame(J)\n",
    "    plt.boxplot(dfJ[4],positions=[x_pos])\n",
    "    x_pos+=1\n",
    "plt.plot([i for i in range(1,x_pos)],[theory_solution for i in range(1,x_pos)],alpha=0.5)\n",
    "plt.xticks([i for i in range(1,x_pos)],labels=Ls)\n",
    "plt.ylim(np.round(theory_solution,rnd)-1/10**rnd,np.round(theory_solution,rnd)+1/10**rnd)"
   ]
  },
  {
   "cell_type": "code",
   "execution_count": null,
   "metadata": {},
   "outputs": [],
   "source": [
    "dfJ"
   ]
  },
  {
   "cell_type": "code",
   "execution_count": null,
   "metadata": {},
   "outputs": [],
   "source": []
  },
  {
   "cell_type": "code",
   "execution_count": null,
   "metadata": {},
   "outputs": [],
   "source": [
    "J=[]\n",
    "for inc in range(1,11):\n",
    "    for NL in range(10,20):\n",
    "        NU=NL+100\n",
    "        Ns=[i for i in range(NL,NU,inc)]\n",
    "        problem=2\n",
    "        k=3\n",
    "        s=2\n",
    "        for k in range(1,2):\n",
    "            print('\\n{}-th best item: \\n'.format(k), inc,1/e)\n",
    "            for s in range(1,k+1):\n",
    "                y_a,y_l,y_u,y_pol_a,y_aN,y_polN_a=nm.alpha_threshold_finder_for_multiple_N(Ns,problem,k,s)\n",
    "                y_b,y_l,y_u,y_pol_b,y_bN,y_polN_b=nm.beta_threshold_finder_for_multiple_N(Ns,problem,k,s)\n",
    "                if y_a[-1]<1:\n",
    "\n",
    "                    clf = LinearRegression(fit_intercept=True)\n",
    "                    clf.fit([[i] for i in Ns],y_polN_a,sample_weight=Ns)\n",
    "\n",
    "                    b=clf.predict([[0]])[0]\n",
    "                    a=clf.predict([[1]])[0]-b\n",
    "                    if b<0:\n",
    "                        print('alpha_{}'.format(s),'{}n{}'.format(a,b))\n",
    "                    else:\n",
    "                        print('alpha_{}'.format(s),'{}n+{}'.format(a,b))\n",
    "                    J.append(['I_{}:{}:{}'.format(NL,NU,inc),problem,k,'alpha_{}'.format(s),a,b])\n",
    "                if y_b[-1]<1:\n",
    "                    clf = LinearRegression(fit_intercept=True)\n",
    "                    clf.fit([[i] for i in Ns],y_polN_b)\n",
    "\n",
    "                    b=clf.predict([[0]])[0]\n",
    "                    a=clf.predict([[1]])[0]-b\n",
    "                    if b<0:\n",
    "                        print('beta_{}'.format(s),'{}n{}'.format(a,b))\n",
    "                    else:\n",
    "                        print('beta_{}'.format(s),'{}n+{}'.format(a,b))   \n",
    "\n",
    "                    J.append(['I_{}:{}:{}'.format(NL,NU,inc),problem,k,'beta_{}'.format(s),a,b])\n",
    "\n"
   ]
  },
  {
   "cell_type": "code",
   "execution_count": null,
   "metadata": {},
   "outputs": [],
   "source": [
    "dfJ=pd.DataFrame(J)\n",
    "for i in range(1,11):\n",
    "    dfJ2=dfJ[dfJ[0].apply(lambda x:x.split(':')[2])==str(i)]\n",
    "    plt.boxplot(dfJ2[4],positions=[i])\n",
    "    plt.scatter([i],[1/e])"
   ]
  },
  {
   "cell_type": "code",
   "execution_count": null,
   "metadata": {},
   "outputs": [],
   "source": [
    "plt.scatter(Ns,y_pol_a)\n",
    "\n",
    "\n",
    "clf = LinearRegression(fit_intercept=True)\n",
    "clf.fit([[i] for i in Ns],y_polN_a,sample_weight=Ns)\n",
    "\n",
    "b=clf.predict([[0]])[0]\n",
    "a=clf.predict([[1]])[0]-b\n",
    "plt.plot(Ns,[a+b/i for i in Ns])\n",
    "\n",
    "\n",
    "\n",
    "clf = LinearRegression(fit_intercept=True)\n",
    "clf.fit([[i,1/i] for i in Ns],y_polN_a)\n",
    "\n",
    "b=clf.predict([[0,0]])[0]\n",
    "a=clf.predict([[1,0]])[0]-b\n",
    "c=clf.predict([[0,1]])[0]-b\n",
    "\n",
    "\n",
    "plt.plot(Ns,[a+b/i+c/i/i for i in Ns])"
   ]
  },
  {
   "cell_type": "code",
   "execution_count": null,
   "metadata": {},
   "outputs": [],
   "source": [
    "#test new function\n",
    "\n",
    "J=[]\n",
    "for inc in range(1,11):\n",
    "    for NL in range(10,20):\n",
    "        NU=NL+100\n",
    "        Ns=[i for i in range(NL,NU,inc)]\n",
    "        problem=2\n",
    "        k=3\n",
    "        s=2\n",
    "        for k in range(1,2):\n",
    "            print('\\n{}-th best item: \\n'.format(k), inc,1/e)\n",
    "            for s in range(1,k+1):\n",
    "                y_a,y_l,y_u,y_pol_a,y_aN,y_polN_a=alpha_threshold_finder_for_multiple_N(Ns,problem,k,s)\n",
    "                y_b,y_l,y_u,y_pol_b,y_bN,y_polN_b=beta_threshold_finder_for_multiple_N(Ns,problem,k,s)\n",
    "                if y_a[-1]<1:\n",
    "\n",
    "                    clf = LinearRegression(fit_intercept=True)\n",
    "                    clf.fit([[i,1/i] for i in Ns],y_polN_a)\n",
    "\n",
    "                    b=clf.predict([[0,0]])[0]\n",
    "                    a=clf.predict([[1,0]])[0]-b\n",
    "                    c=clf.predict([[0,1]])[0]-b\n",
    "                    if b<0:\n",
    "                        print('alpha_{}'.format(s),'{}n{}'.format(a,b))\n",
    "                    else:\n",
    "                        print('alpha_{}'.format(s),'{}n+{}'.format(a,b))\n",
    "                    J.append(['I_{}:{}:{}'.format(NL,NU,inc),problem,k,'alpha_{}'.format(s),a,b,c])\n",
    "                if y_b[-1]<1:\n",
    "                    clf = LinearRegression(fit_intercept=True)\n",
    "                    clf.fit([[i] for i in Ns],y_polN_b)\n",
    "\n",
    "                    b=clf.predict([[0]])[0]\n",
    "                    a=clf.predict([[1]])[0]-b\n",
    "                    if b<0:\n",
    "                        print('beta_{}'.format(s),'{}n{}'.format(a,b))\n",
    "                    else:\n",
    "                        print('beta_{}'.format(s),'{}n+{}'.format(a,b))   \n",
    "\n",
    "                    J.append(['I_{}:{}:{}'.format(NL,NU,inc),problem,k,'beta_{}'.format(s),a,b])\n",
    "\n"
   ]
  },
  {
   "cell_type": "code",
   "execution_count": null,
   "metadata": {},
   "outputs": [],
   "source": [
    "dfJ"
   ]
  },
  {
   "cell_type": "code",
   "execution_count": null,
   "metadata": {},
   "outputs": [],
   "source": [
    "dfJ=pd.DataFrame(J)\n",
    "for i in range(1,11):\n",
    "    dfJ2=dfJ[dfJ[0].apply(lambda x:x.split(':')[2])==str(i)]\n",
    "    plt.boxplot(dfJ2[4],positions=[i])\n",
    "    plt.scatter([i],[1/e])"
   ]
  },
  {
   "cell_type": "code",
   "execution_count": null,
   "metadata": {},
   "outputs": [],
   "source": [
    "dfJ=pd.DataFrame(J)\n",
    "for i in range(1,11):\n",
    "    dfJ2=dfJ[dfJ[0].apply(lambda x:x.split(':')[2])==str(i)]\n",
    "    plt.boxplot(dfJ2[4],positions=[i])\n",
    "    plt.scatter([i],[1/e])"
   ]
  },
  {
   "cell_type": "code",
   "execution_count": null,
   "metadata": {},
   "outputs": [],
   "source": [
    "plt.boxplot(dfJ[4])\n",
    "plt.scatter([1],[1/e])"
   ]
  },
  {
   "cell_type": "code",
   "execution_count": null,
   "metadata": {},
   "outputs": [],
   "source": [
    "def my_fit(x,y):\n",
    "    \n",
    "    return None\n",
    "\n",
    "fit([[i] for i in Ns],[0.5,0.5])"
   ]
  },
  {
   "cell_type": "code",
   "execution_count": null,
   "metadata": {},
   "outputs": [],
   "source": [
    "import numpy as np\n",
    "import scipy.linalg\n",
    "from scipy.optimize import minimize\n",
    "from mpl_toolkits.mplot3d import Axes3D\n",
    "import matplotlib.pyplot as plt\n",
    "\n",
    "def fit(X, params):\n",
    "    # 3d Plane Z = aX + bY + c\n",
    "    return [x[0]*params[0]+params[1] for x in X]\n",
    "\n",
    "def cost_function(params, X, y):\n",
    "    # L1- norm\n",
    "    return np.sum(np.abs(np.array(y) - np.array(fit(X, params)))**2)\n",
    "\n",
    "\n",
    "output = minimize(cost_function, [0.5,0.5], args=([[i] for i in Ns],y_polN_a))\n",
    "y_hat = fit([[0],[1]], output.x)\n",
    "output"
   ]
  },
  {
   "cell_type": "code",
   "execution_count": null,
   "metadata": {},
   "outputs": [],
   "source": [
    "np.array([0,1])-np.array([0,1])"
   ]
  },
  {
   "cell_type": "code",
   "execution_count": null,
   "metadata": {},
   "outputs": [],
   "source": [
    "def find_nontrivial_threshold_functions(Ns,problem,k,s):\n",
    "    my_dict={}\n",
    "    for s in range(1,k+1):\n",
    "        y_a,y_l,y_u,y_pol_a,y_aN,y_polN_a=alpha_threshold_finder_for_multiple_N(Ns,problem,k,s)\n",
    "        y_b,y_l,y_u,y_pol_b,y_bN,y_polN_b=beta_threshold_finder_for_multiple_N(Ns,problem,k,s)\n",
    "        if y_a[-1]<1:\n",
    "\n",
    "            clf = LinearRegression(fit_intercept=True)\n",
    "            clf.fit([[i] for i in Ns],y_polN_a)\n",
    "\n",
    "            b=clf.predict([[0]])[0]\n",
    "            a=clf.predict([[1]])[0]-b\n",
    "            if b<0:\n",
    "                print('alpha_{}'.format(s),'{}n{}'.format(a,b))\n",
    "            else:\n",
    "                print('alpha_{}'.format(s),'{}n+{}'.format(a,b))\n",
    "            my_dict['alpha_{}'.format(s)]=(a,b)\n",
    "        if y_b[-1]<1:\n",
    "            clf = LinearRegression(fit_intercept=True)\n",
    "            clf.fit([[i] for i in Ns],y_polN_b)\n",
    "\n",
    "            b=clf.predict([[0]])[0]\n",
    "            a=clf.predict([[1]])[0]-b\n",
    "            if b<0:\n",
    "                print('beta_{}'.format(s),'{}n{}'.format(a,b))\n",
    "            else:\n",
    "                print('beta_{}'.format(s),'{}n+{}'.format(a,b)) \n",
    "            my_dict['beta_{}'.format(s)]=(a,b)\n",
    "    return my_dict"
   ]
  },
  {
   "cell_type": "code",
   "execution_count": null,
   "metadata": {},
   "outputs": [],
   "source": [
    "def find_nontrivial_threshold_functions_test(Ns,problem,k,s):\n",
    "    my_dict={}\n",
    "    for s in range(1,k+1):\n",
    "        y_a,y_l,y_u,y_pol_a,y_aN,y_polN_a=alpha_threshold_finder_for_multiple_N(Ns,problem,k,s)\n",
    "        y_b,y_l,y_u,y_pol_b,y_bN,y_polN_b=beta_threshold_finder_for_multiple_N(Ns,problem,k,s)\n",
    "        if y_a[-1]<1:\n",
    "\n",
    "            clf = LinearRegression(fit_intercept=True)\n",
    "            clf.fit([[i,1/i] for i in Ns],y_polN_a)\n",
    "\n",
    "            b=clf.predict([[0,0]])[0]\n",
    "            a=clf.predict([[1,0]])[0]-b\n",
    "            c=clf.predict([[0,1]])[0]-b\n",
    "            if b<0:\n",
    "                print('alpha_{}'.format(s),'{}n{}+{}/n'.format(a,b,c))\n",
    "            else:\n",
    "                print('alpha_{}'.format(s),'{}n+{}+{}/n'.format(a,b,c))\n",
    "            my_dict['alpha_{}'.format(s)]=(a,b,c)\n",
    "        if y_b[-1]<1:\n",
    "            clf = LinearRegression(fit_intercept=True)\n",
    "            clf.fit([[i] for i in Ns],y_polN_b)\n",
    "\n",
    "            b=clf.predict([[0,0]])[0]\n",
    "            a=clf.predict([[1,0]])[0]-b\n",
    "            c=clf.predict([[0,1]])[0]-b\n",
    "            if b<0:\n",
    "                print('beta_{}'.format(s),'{}n{}+{}/n'.format(a,b,c))\n",
    "            else:\n",
    "                print('beta_{}'.format(s),'{}n+{}+{}/n'.format(a,b,c)) \n",
    "            my_dict['beta_{}'.format(s)]=(a,b,c)\n",
    "    return my_dict"
   ]
  },
  {
   "cell_type": "code",
   "execution_count": null,
   "metadata": {},
   "outputs": [],
   "source": [
    "\n",
    "Ns=[i for i in range(101,201,3)]\n",
    "problem=2\n",
    "k=3\n",
    "s=2\n",
    "\n",
    "\n",
    "for k in range(1,2):\n",
    "    print('\\n{}-th best item: \\n'.format(k))\n",
    "    find_nontrivial_threshold_functions_test(Ns,problem,k,s)\n",
    "    find_nontrivial_threshold_functions(Ns,problem,k,s)\n",
    "print(1/e)"
   ]
  },
  {
   "cell_type": "code",
   "execution_count": null,
   "metadata": {},
   "outputs": [],
   "source": [
    "problem=2\n",
    "k=1\n",
    "my_dicts=[]\n",
    "s=1\n",
    "for q in range(1):\n",
    "    Ns=[i+q for i in range(10,101)]\n",
    "    print('\\n{}-th best item: \\n'.format(k))\n",
    "    my_dicts.append(find_nontrivial_threshold_functions_test(Ns,problem,k,s))\n",
    "\n",
    "a_s, b_s = [], []\n",
    "for thr in my_dicts[0]:\n",
    "    for my_dict in my_dicts:\n",
    "        a,b,c=my_dict[thr]\n",
    "        a_s.append(a)\n",
    "        b_s.append(b)"
   ]
  },
  {
   "cell_type": "code",
   "execution_count": null,
   "metadata": {},
   "outputs": [],
   "source": [
    "my_dicts[0]"
   ]
  },
  {
   "cell_type": "code",
   "execution_count": null,
   "metadata": {},
   "outputs": [],
   "source": [
    "plt.boxplot(a_s)\n",
    "plt.boxplot([1/e])"
   ]
  },
  {
   "cell_type": "code",
   "execution_count": null,
   "metadata": {},
   "outputs": [],
   "source": [
    "sum(a_s)/len(a_s)-1/e"
   ]
  },
  {
   "cell_type": "code",
   "execution_count": null,
   "metadata": {},
   "outputs": [],
   "source": [
    "y_polN_a,y_aN,Ns"
   ]
  },
  {
   "cell_type": "code",
   "execution_count": null,
   "metadata": {},
   "outputs": [],
   "source": [
    "plt.plot(Ns,y_a)\n",
    "plt.plot(Ns,y_pol_a)\n",
    "plt.legend(['\\u03B1\\N{SUBSCRIPT ONE}*/n','q*/n'])\n",
    "plt.xlabel('Number of Items: n')\n",
    "plt.ylabel('Threshold / Number of Items')"
   ]
  },
  {
   "cell_type": "code",
   "execution_count": null,
   "metadata": {},
   "outputs": [],
   "source": [
    "[(y_polN_a[i],y_aN[i]) for i in range(len(y_polN_a))]"
   ]
  },
  {
   "cell_type": "code",
   "execution_count": null,
   "metadata": {},
   "outputs": [],
   "source": [
    "N_0=1000\n",
    "G=[]\n",
    "rt=y_pol_a[-1]\n",
    "e=np.exp(1)\n",
    "for N_0 in range(10,2001):\n",
    "#for N_0 in range(100000,200000,501):\n",
    "    G.append([N_0,fast_classic_secretary_solver(N_0), N_0*a+b+c/N_0, np.round(N_0*a+b+c/N_0),\n",
    "              N_0/np.exp(1),np.round(N_0/np.exp(1)),np.floor(N_0/np.exp(1)),\n",
    "              np.ceil(N_0/np.exp(1)),np.floor((N_0-0.5)/e+0.5)])\n",
    "    \n",
    "dfG=pd.DataFrame(G,columns=['N','alpha','f(n)','[f(n)]','n/e','[n/e]','floor(n/e)','ceil(n/e)','1_ratio'])"
   ]
  },
  {
   "cell_type": "code",
   "execution_count": null,
   "metadata": {},
   "outputs": [],
   "source": [
    "sum(dfG['alpha']==dfG['[f(n)]']),sum(dfG['alpha']==dfG['[n/e]']),sum(dfG['alpha']==dfG['floor(n/e)']),sum(dfG['alpha']==dfG['ceil(n/e)']),sum(dfG['alpha']==dfG['1_ratio'])"
   ]
  },
  {
   "cell_type": "code",
   "execution_count": null,
   "metadata": {},
   "outputs": [],
   "source": [
    "for index, row in dfG.iterrows():\n",
    "    print('{} & {} & {} & {} \\\\\\ \\hline'.format(int(row['N']),int(row['alpha']),np.round(row['f(n)'],4),int(row['[f(n)]'])))"
   ]
  },
  {
   "cell_type": "code",
   "execution_count": null,
   "metadata": {},
   "outputs": [],
   "source": [
    "dfG[~(dfG['alpha']==dfG['[f(n)]'])]"
   ]
  },
  {
   "cell_type": "code",
   "execution_count": null,
   "metadata": {},
   "outputs": [],
   "source": [
    "\n",
    "n=10000000\n",
    "fast_classic_secretary_solver(n)"
   ]
  },
  {
   "cell_type": "code",
   "execution_count": null,
   "metadata": {},
   "outputs": [],
   "source": []
  },
  {
   "cell_type": "code",
   "execution_count": null,
   "metadata": {},
   "outputs": [],
   "source": [
    "(dfG['alpha']-dfG['[f(n)]']).min()"
   ]
  },
  {
   "cell_type": "code",
   "execution_count": null,
   "metadata": {},
   "outputs": [],
   "source": [
    "a*n+b, n/np.exp(1)+b"
   ]
  },
  {
   "cell_type": "code",
   "execution_count": null,
   "metadata": {},
   "outputs": [],
   "source": [
    "e=np.exp(1)\n",
    "\n",
    "(n-0.5)/e+1.5"
   ]
  },
  {
   "cell_type": "code",
   "execution_count": null,
   "metadata": {},
   "outputs": [],
   "source": [
    "[y_pol[i]-y_pol[i-1] for i in range(1,len(y_pol))]"
   ]
  },
  {
   "cell_type": "code",
   "execution_count": null,
   "metadata": {},
   "outputs": [],
   "source": [
    "[y_a[i]-y_a[i-1] for i in range(1,len(y_pol))]"
   ]
  },
  {
   "cell_type": "code",
   "execution_count": null,
   "metadata": {},
   "outputs": [],
   "source": [
    "Ns=[10,11,12,13,14,15,20,21,22,23,24,25,26,27,28,29,30,31,32,33,34,35,99,100,101,102,103,104,105,198,199,200,201,202,203,204,205]\n",
    "y_a,y_e,y_pol=[],[],[]\n",
    "y_u,y_l=[],[]\n",
    "G=[[],[],[],[]]\n",
    "\n",
    "Ns=[10]\n",
    "k=1\n",
    "s=1\n",
    "for N in Ns:\n",
    "    y_a=[]\n",
    "    Mb=[]\n",
    "    U=cmf.create_payoff_array(N,3,k)\n",
    "    #print(U)\n",
    "    D,E,dyn_hiring_rule=cmf.dynamic_solution_general_form(N,U)\n",
    "    a_0,b_0=find_threshold_interval(D,s)\n",
    "    for a in range(0,N-s+1):\n",
    "        arr = [(i+1)>a for i in range(N-s+1)]\n",
    "        for j in range(0,len(arr)):\n",
    "            D[j+s-1][s-1]=arr[j]\n",
    "        D,E,dyn_hiring_rule=cmf.evaluate_the_strategy(N,U,D)\n",
    "        print(a+s-1,E[0][0])\n",
    "        Mb.append(E[0][0])\n",
    "        G[0].append(1/N)\n",
    "        G[1].append((a+s)/N)\n",
    "        G[2].append(E[0][0])\n",
    "    \n",
    "    #Ma=[[(a/N)**2,a/N,1],[((a-1)/N)**2,(a-1)/N,1],[((a+1)/N)**2,(a+1)/N,1]]\n",
    "    \n",
    "    #qcoefs=np.linalg.solve(Ma,Mb)\n",
    "    #G[3].append(qcoefs)\n",
    "\n",
    "        y_a.append(a)\n",
    "    #y_u.append((a+1)/N)\n",
    "    #y_l.append((a-1)/N)\n",
    "    #y_pol.append(-(qcoefs[1]/qcoefs[0]/2))\n",
    "    #y_e.append(1/np.exp(1))\n",
    "    \n",
    "    plt.scatter(y_a,Mb)\n",
    "    #plt.plot(np.linspace(0,1,1000),[(i*N-2)/N*np.log((N-1)/((i*N-2))) for i in np.linspace(0,1,1000)])\n",
    "    #plt.plot(y_a,[(a+1/N)*np.log(1/(a+1/N)) for a in y_a])\n",
    "    plt.xlabel('\\u03B1'+'_1/n')\n",
    "    plt.ylabel('P(n)')"
   ]
  },
  {
   "cell_type": "code",
   "execution_count": null,
   "metadata": {},
   "outputs": [],
   "source": [
    "from sklearn.neural_network import MLPRegressor\n",
    "\n",
    "from sklearn.model_selection import train_test_split\n",
    "\n",
    "X,y=[[G[0][i],G[1][i]] for i in range(len(G[0]))],G[2]\n",
    "\n",
    "X_train, X_test, y_train, y_test = train_test_split(X, y,\n",
    "                                                    random_state=1)\n",
    "regr = MLPRegressor(random_state=1, max_iter=500,hidden_layer_sizes=(40,30)).fit(X_train, y_train)\n",
    "regr.predict(X_test[:2])\n",
    "\n",
    "regr.score(X_test, y_test)\n"
   ]
  },
  {
   "cell_type": "code",
   "execution_count": null,
   "metadata": {},
   "outputs": [],
   "source": [
    "y_pred=regr.predict(X_test)\n",
    "i=11\n",
    "X_test[i],y_pred[i],y_test[i]"
   ]
  },
  {
   "cell_type": "code",
   "execution_count": null,
   "metadata": {},
   "outputs": [],
   "source": [
    "\n",
    "def polynomial_fit(x,y):\n",
    "    '''finds the polynom that goes through the points (x_i,y_i)'''\n",
    "    deg=len(x)-1\n",
    "    Ma=[[xi**j for j in range(deg,-1,-1)] for xi in x]\n",
    "    Mb=y\n",
    "    return np.linalg.solve(Ma,Mb)\n",
    "\n",
    "\n",
    "def another_fit(x,y):\n",
    "    deg=len(x)-1\n",
    "    Ma=[[xi**(j-1) for j in range(deg,-1,-1)] for xi in x]\n",
    "    Mb=y\n",
    "    return np.linalg.solve(Ma,Mb)\n",
    "\n",
    "\n",
    "def evaluate_another(x,q):\n",
    "    deg=len(q)-1\n",
    "    return [sum([xi**(j-1)*q[deg-j] for j in range(deg,-1,-1)]) for xi in x]\n",
    "\n",
    "def evaluate_polynom(x,q):\n",
    "    deg=len(q)-1\n",
    "    return [sum([xi**j*q[deg-j] for j in range(deg,-1,-1)]) for xi in x]\n",
    "    \n",
    "deg=1\n",
    "qcoefs=polynomial_fit(y_a[a_0-deg:a_0+deg+1],Mb[a_0-deg:a_0+deg+1])\n",
    "x_poly=np.linspace(0.2,0.4,100000)\n",
    "y_poly=evaluate_polynom(x_poly,qcoefs)\n",
    "#plt.scatter(y_a[a_0-deg:a_0+deg+1],Mb[a_0-deg:a_0+deg+1])\n",
    "plt.scatter(y_a,Mb,alpha=1)\n",
    "plt.scatter(y_a[a_0-deg:a_0+deg+1],Mb[a_0-deg:a_0+deg+1],alpha=1,color='orange',s=15)\n",
    "\n",
    "x_poly=np.linspace(0,9.1,100000)\n",
    "y_poly=evaluate_polynom(x_poly,qcoefs)\n",
    "\n",
    "plt.plot(x_poly,y_poly,'orange',alpha=0.8)\n",
    "\n",
    "#find the maximizer of the polynom\n",
    "max_prob=0\n",
    "argmax_prob=0\n",
    "for j in range(len(x_poly)):\n",
    "    if y_poly[j]>max_prob:\n",
    "        max_prob=y_poly[j]\n",
    "        argmax_prob=x_poly[j]\n",
    "print(argmax_prob,1/np.exp(1))\n",
    "plt.xlabel('Threshold: \\u03B1'+'\\N{SUBSCRIPT ONE}')\n",
    "plt.ylabel('Success Probability: P(n)')\n",
    "plt.legend(['Interpolation Polynomial Q(\\u03B1\\N{SUBSCRIPT ONE})','Success Probabilities with \\u03B1\\N{SUBSCRIPT ONE}','Succ. Probs. that Q(\\u03B1\\N{SUBSCRIPT ONE}) passes'])"
   ]
  },
  {
   "cell_type": "code",
   "execution_count": null,
   "metadata": {},
   "outputs": [],
   "source": [
    "### def polynomial_fit(x,y):\n",
    "    '''finds the polynom that goes through the points (x_i,y_i)'''\n",
    "    deg=len(x)-1\n",
    "    Ma=[[xi**j for j in range(deg,-1,-1)] for xi in x]\n",
    "    Mb=y\n",
    "    return np.linalg.solve(Ma,Mb)\n",
    "\n",
    "\n",
    "def another_fit(x,y):\n",
    "    deg=len(x)-1\n",
    "    Ma=[[(xi*np.log(1/xi))**(j) for j in range(deg,-1,-1)] for xi in x]\n",
    "    Mb=y\n",
    "    return np.linalg.solve(Ma,Mb)\n",
    "\n",
    "\n",
    "def evaluate_another(x,q):\n",
    "    deg=len(q)-1\n",
    "    return [sum([(xi*np.log(1/xi))**(j)*q[deg-j] for j in range(deg,-1,-1)]) for xi in x]\n",
    "\n",
    "def evaluate_polynom(x,q):\n",
    "    deg=len(q)-1\n",
    "    return [sum([xi**j*q[deg-j] for j in range(deg,-1,-1)]) for xi in x]\n",
    "    \n",
    "deg=3\n",
    "#qcoefs=polynomial_fit(y_a[a_0-deg:a_0+deg+1]+[0,1-1/N],Mb[a_0-deg:a_0+deg+1]+[1/N,1/N])\n",
    "qcoefs=another_fit(y_a[a_0-deg:a_0+deg+1],Mb[a_0-deg:a_0+deg+1])\n",
    "x_poly=np.linspace(0.01,0.99,1000)\n",
    "#y_poly=evaluate_polynom(x_poly,qcoefs)\n",
    "y_poly=evaluate_another(x_poly,qcoefs)\n",
    "plt.plot(y_a,Mb)\n",
    "plt.plot(x_poly,y_poly)\n",
    "\n",
    "\n",
    "#find the maximizer of the polynom\n",
    "max_prob=0\n",
    "argmax_prob=0\n",
    "for j in range(len(x_poly)):\n",
    "    if y_poly[j]>max_prob:\n",
    "        max_prob=y_poly[j]\n",
    "        argmax_prob=x_poly[j]\n",
    "print(argmax_prob,1/np.exp(1))"
   ]
  },
  {
   "cell_type": "code",
   "execution_count": null,
   "metadata": {},
   "outputs": [],
   "source": [
    "another_fit([1,2,3],[5,6,7])"
   ]
  },
  {
   "cell_type": "code",
   "execution_count": null,
   "metadata": {},
   "outputs": [],
   "source": [
    "x_poly=np.linspace(1,3,1000)\n",
    "y_poly=evaluate_another(x_poly,another_fit([1,2,3],[5,6,7]))"
   ]
  },
  {
   "cell_type": "code",
   "execution_count": null,
   "metadata": {},
   "outputs": [],
   "source": [
    "for a in range(0,N-s+1):\n",
    "    print([(i+1)>a for i in range(N-s+1)])"
   ]
  },
  {
   "cell_type": "code",
   "execution_count": null,
   "metadata": {},
   "outputs": [],
   "source": [
    "a_0,y_a[a_0-deg:a_0+deg+1],Mb[a_0-deg:a_0+deg+1]"
   ]
  },
  {
   "cell_type": "code",
   "execution_count": null,
   "metadata": {},
   "outputs": [],
   "source": [
    "L=3\n",
    "G=[[],[]]\n",
    "for k in range(2,3):\n",
    "    for s in range(2,k+1):\n",
    "        for B in [10,20,40,80,100,200,400,700,1000,1500,2000,3000]:\n",
    "            a_s=[]\n",
    "            for i in range(L):\n",
    "                Ns=[i for i in range(B+i,B+1+i+L*2,L)]\n",
    "                y_a,y_l,y_u,y_pol,y_aN,y_polN=alpha_threshold_finder_for_multiple_N(Ns,3,k,s)\n",
    "                clf = LinearRegression(fit_intercept=True)\n",
    "                clf.fit([[i] for i in Ns],y_polN)\n",
    "\n",
    "                b=clf.predict([[0]])[0]\n",
    "                a=clf.predict([[1]])[0]-b\n",
    "                a_s.append(a)\n",
    "            G[0].append(B)\n",
    "            G[1].append(2/3-sum(a_s)/L)\n",
    "            print(k,s,B,sum(a_s)/L,'\\t',G[1][-1])"
   ]
  },
  {
   "cell_type": "code",
   "execution_count": null,
   "metadata": {},
   "outputs": [],
   "source": [
    "k=2\n",
    "s=1\n",
    "Ns=range(2,100)\n",
    "\n",
    "y_a,y_l,y_u,y_pol,y_aN,y_polN=alpha_threshold_finder_for_multiple_N(Ns,3,k,s)\n",
    "clf = LinearRegression(fit_intercept=True)\n",
    "clf.fit([[i] for i in Ns],y_polN)\n",
    "\n",
    "b=clf.predict([[0]])[0]\n",
    "a=clf.predict([[1]])[0]-b"
   ]
  },
  {
   "cell_type": "code",
   "execution_count": null,
   "metadata": {},
   "outputs": [],
   "source": []
  },
  {
   "cell_type": "code",
   "execution_count": null,
   "metadata": {},
   "outputs": [],
   "source": [
    "y_polN"
   ]
  },
  {
   "cell_type": "code",
   "execution_count": null,
   "metadata": {},
   "outputs": [],
   "source": [
    "plt.plot(Ns,y_a)\n",
    "plt.plot(Ns,y_u)\n",
    "plt.plot(Ns,y_l)\n",
    "plt.plot(Ns,y_pol)\n",
    "#plt.plot(Ns,y_e)"
   ]
  },
  {
   "cell_type": "code",
   "execution_count": null,
   "metadata": {},
   "outputs": [],
   "source": [
    "\n",
    "clf = LinearRegression(fit_intercept=True)\n",
    "clf.fit([[i] for i in Ns],y_aN)\n",
    "\n",
    "b=clf.predict([[0]])[0]\n",
    "a=clf.predict([[1]])[0]-b\n",
    "\n",
    "Xs=np.linspace(Ns[0]-1,Ns[-1]+1,10000)\n",
    "fN=clf.predict([[i] for i in Xs])\n",
    "f=[fN[i]/Xs[i] for i in range(len(Xs))]\n",
    "fR=[np.round(fN[i])/Xs[i] for i in range(len(Xs))]\n",
    "\n",
    "plt.plot(Xs,fR)\n",
    "plt.scatter(Ns,y_a,marker='^')\n",
    "#plt.plot(Ns,y_e)\n"
   ]
  },
  {
   "cell_type": "code",
   "execution_count": null,
   "metadata": {},
   "outputs": [],
   "source": [
    "#fn=n/e\n",
    "\n",
    "Xs=np.linspace(Ns[0],Ns[-1],10000)\n",
    "fN=[i/np.exp(1) for i in Xs]\n",
    "f=[fN[i]/Xs[i] for i in range(len(Xs))]\n",
    "fR=[np.round(fN[i])/Xs[i] for i in range(len(Xs))]\n",
    "\n",
    "plt.plot(Xs,fR)\n",
    "#plt.scatter(Ns,y_a,marker='^')\n",
    "#plt.plot(Ns,y_e)"
   ]
  },
  {
   "cell_type": "code",
   "execution_count": null,
   "metadata": {},
   "outputs": [],
   "source": []
  },
  {
   "cell_type": "code",
   "execution_count": null,
   "metadata": {},
   "outputs": [],
   "source": [
    "\n",
    "for i in range(len(y_aN)):\n",
    "    if not np.round(y_polN[i])==y_aN[i]:\n",
    "        print(y_aN[i],y_polN[i])"
   ]
  },
  {
   "cell_type": "code",
   "execution_count": null,
   "metadata": {},
   "outputs": [],
   "source": [
    "from sklearn.linear_model import LinearRegression\n",
    "clf = LinearRegression(fit_intercept=True)\n",
    "clf.fit([[i] for i in Ns],y_aN)\n",
    "\n",
    "b=clf.predict([[0]])[0]\n",
    "a=clf.predict([[1]])[0]-b\n",
    "a,b"
   ]
  },
  {
   "cell_type": "code",
   "execution_count": null,
   "metadata": {},
   "outputs": [],
   "source": [
    "from sklearn.linear_model import LinearRegression\n",
    "clf = LinearRegression(fit_intercept=True)\n",
    "clf.fit([[i] for i in Ns],y_polN)\n",
    "\n",
    "b=clf.predict([[0]])[0]\n",
    "a=clf.predict([[1]])[0]-b\n",
    "a,b"
   ]
  },
  {
   "cell_type": "code",
   "execution_count": null,
   "metadata": {},
   "outputs": [],
   "source": [
    "fN=clf.predict([[i] for i in Ns])\n",
    "f=[fN[i]/Ns[i] for i in range(len(Ns))]\n",
    "\n",
    "\n",
    "#plt.plot(Ns,y_a)\n",
    "plt.plot(Ns,y_u)\n",
    "plt.plot(Ns,y_l)\n",
    "plt.scatter(Ns,y_pol)\n",
    "plt.plot(Ns,f)\n",
    "\n",
    "\n",
    "\n",
    "for i in range(len(y_aN)):\n",
    "    if not np.round(fN[i])==y_aN[i]:\n",
    "        print(y_aN[i],fN[i],Ns[i])"
   ]
  },
  {
   "cell_type": "code",
   "execution_count": null,
   "metadata": {},
   "outputs": [],
   "source": [
    "from sklearn.linear_model import LinearRegression\n",
    "clf = LinearRegression(fit_intercept=True)\n",
    "clf.fit([[i] for i in Ns],y_polN,sample_weight=[i**12 for i in Ns])\n",
    "b=clf.predict([[0]])[0]\n",
    "a=clf.predict([[1]])[0]-b\n",
    "a,b"
   ]
  },
  {
   "cell_type": "code",
   "execution_count": null,
   "metadata": {},
   "outputs": [],
   "source": [
    "fN=clf.predict([[i] for i in Ns])\n",
    "f=[fN[i]/Ns[i] for i in range(len(Ns))]\n",
    "\n",
    "plt.plot(Ns,y_a)\n",
    "plt.plot(Ns,y_u)\n",
    "plt.plot(Ns,y_l)\n",
    "#plt.scatter(Ns,y_pol)\n",
    "plt.plot(Ns,f)\n",
    "\n",
    "\n",
    "for i in range(len(y_aN)):\n",
    "    if not np.round(fN[i])==y_aN[i]:\n",
    "        print(y_aN[i],fN[i])"
   ]
  },
  {
   "cell_type": "code",
   "execution_count": null,
   "metadata": {},
   "outputs": [],
   "source": [
    "from sklearn.linear_model import LinearRegression\n",
    "clf = LinearRegression(fit_intercept=True)\n",
    "clf.fit([[1/N] for N in Ns],y_pol)\n",
    "\n",
    "b=clf.predict([[0]])[0]\n",
    "a=clf.predict([[1]])[0]-b\n",
    "a,b"
   ]
  },
  {
   "cell_type": "code",
   "execution_count": null,
   "metadata": {},
   "outputs": [],
   "source": [
    "for i in range(len(Ns)):\n",
    "    print(Ns[i],y_aN[i],fN[i],y_l[i],y_u[i],max(y_l),min(y_u))"
   ]
  },
  {
   "cell_type": "code",
   "execution_count": null,
   "metadata": {},
   "outputs": [],
   "source": [
    "1/np.exp(1)"
   ]
  },
  {
   "cell_type": "code",
   "execution_count": null,
   "metadata": {},
   "outputs": [],
   "source": [
    "problem=3\n",
    "k=1\n",
    "s=1\n",
    "Ns=[i for i in range(200,210,1)]+[i for i in range(300,310,1)]+[i for i in range(400,410,1)]\n",
    "for k in range(1,2):\n",
    "    for s in range(1,k+1):\n",
    "        y_a,y_l,y_u,y_pol=alpha_threshold_finder_for_multiple_N(Ns,problem,k,s)\n",
    "        clf = LinearRegression(fit_intercept=True)\n",
    "        clf.fit([[1/N] for N in Ns],y_pol)\n",
    "\n",
    "        b=clf.predict([[0]])[0]\n",
    "        a=clf.predict([[1]])[0]-b\n",
    "        \n",
    "        print(k,s,b)\n",
    "    print('\\n')\n",
    "    "
   ]
  },
  {
   "cell_type": "code",
   "execution_count": null,
   "metadata": {},
   "outputs": [],
   "source": [
    "problem=3\n",
    "k=1\n",
    "s=1\n",
    "Nss=[[i for i in range(100,150,1)],[i for i in range(200,230,1)],[i for i in range(300,330,1)],[i for i in range(400,430,1)],\n",
    "     [i for i in range(100,120,1)]+[i for i in range(400,410,1)]+[i for i in range(500,510,1)],\n",
    "     [i for i in range(100,110,1)]+[i for i in range(1000,1010,1)]]\n",
    "for j in range(0,len(Nss)):\n",
    "    Ns=Nss[j]\n",
    "    print(Ns)\n",
    "    for k in range(2,3):\n",
    "        for s in range(2,k+1):\n",
    "            y_a,y_l,y_u,y_pol=alpha_threshold_finder_for_multiple_N(Ns,problem,k,s)\n",
    "            clf = LinearRegression(fit_intercept=True)\n",
    "            clf.fit([[1/N] for N in Ns],y_pol)\n",
    "\n",
    "            b=clf.predict([[0]])[0]\n",
    "            a=clf.predict([[1]])[0]-b\n",
    "\n",
    "            print(j,k,s,b,(b-2/3)*1000000)\n",
    "        print('\\n')\n",
    "    "
   ]
  },
  {
   "cell_type": "code",
   "execution_count": null,
   "metadata": {},
   "outputs": [],
   "source": [
    "problem=3\n",
    "k=1\n",
    "s=1\n",
    "Nss=[[i for i in range(80,180,1)],[i for i in range(200,250,1)],[i for i in range(300,350,1)],[i for i in range(400,450,1)],\n",
    "    [i for i in range(100,150,1)]+[i for i in range(400,420,1)]+[i for i in range(500,520,1)],\n",
    "    [i for i in range(100,120,1)]+[i for i in range(1000,1020,1)]]\n",
    "for j in range(0,len(Nss)):\n",
    "    Ns=Nss[j]\n",
    "    print(Ns)\n",
    "    for k in range(1,2):\n",
    "        for s in range(1,k+1):\n",
    "            y_a,y_l,y_u,y_pol=alpha_threshold_finder_for_multiple_N(Ns,problem,k,s)\n",
    "            clf = LinearRegression(fit_intercept=True)\n",
    "            clf.fit([[1/N] for N in Ns],y_pol)\n",
    "\n",
    "            b=clf.predict([[0]])[0]\n",
    "            a=clf.predict([[1]])[0]-b\n",
    "\n",
    "            print(j,k,s,b,(b-np.exp(1))*1000000)\n",
    "        print('\\n')\n",
    "    "
   ]
  },
  {
   "cell_type": "code",
   "execution_count": null,
   "metadata": {},
   "outputs": [],
   "source": [
    "problem=3\n",
    "k=1\n",
    "s=1\n",
    "Nss=[[i for i in range(100,120,1)],\n",
    "     [i for i in range(120,140,1)],\n",
    "     [i for i in range(140,160,1)],\n",
    "     [i for i in range(160,180,1)],\n",
    "     [i for i in range(180,200,1)],\n",
    "     [i for i in range(200,220,1)],\n",
    "     [i for i in range(100,150,1)],\n",
    "     [i for i in range(120,170,1)],\n",
    "     [i for i in range(140,190,1)],\n",
    "     [i for i in range(160,210,1)],\n",
    "     [i for i in range(180,230,1)],\n",
    "     [i for i in range(200,250,1)],\n",
    "     [i for i in range(10,250,1)],\n",
    "    ]\n",
    "for j in range(11,len(Nss)):\n",
    "    Ns=Nss[j]\n",
    "    print(Ns)\n",
    "    for k in range(1,2):\n",
    "        for s in range(1,k+1):\n",
    "            y_a,y_l,y_u,y_pol=alpha_threshold_finder_for_multiple_N(Ns,problem,k,s)\n",
    "            clf = LinearRegression(fit_intercept=True)\n",
    "            clf.fit([[1/N] for N in Ns],y_pol)\n",
    "\n",
    "            b=clf.predict([[0]])[0]\n",
    "            a=clf.predict([[1]])[0]-b\n",
    "\n",
    "            print(j,k,s,b,(b-np.exp(1))*1000000)\n",
    "        print('\\n')\n",
    "    "
   ]
  },
  {
   "cell_type": "code",
   "execution_count": null,
   "metadata": {
    "scrolled": true
   },
   "outputs": [],
   "source": [
    "problem=3\n",
    "k=1\n",
    "s=1\n",
    "Nss=[[i for i in range(300,400,1)]\n",
    "    ]\n",
    "for j in range(1):\n",
    "    Ns=np.random.choice(Nss[0], 20, replace=False)\n",
    "    print(Ns)\n",
    "    for k in range(2,4):\n",
    "        for s in range(1,k+1):\n",
    "            y_a,y_l,y_u,y_pol=alpha_threshold_finder_for_multiple_N(Ns,problem,k,s)\n",
    "            clf = LinearRegression(fit_intercept=True)\n",
    "            clf.fit([[1/(N)] for N in Ns],y_pol)\n",
    "\n",
    "            b=clf.predict([[0]])[0]\n",
    "            #a=clf.predict([[1]])[0]-b\n",
    "\n",
    "            print(j,k,s,b)\n",
    "        print('\\n')\n",
    "    "
   ]
  },
  {
   "cell_type": "code",
   "execution_count": null,
   "metadata": {
    "scrolled": true
   },
   "outputs": [],
   "source": [
    "problem=3\n",
    "k=1\n",
    "s=1\n",
    "Nss=[[50,80,120,180,250,350,600,900,1200,1500],\n",
    "     [i for i in range(50,350,3)],\n",
    "     [99,100,101]\n",
    "    ]\n",
    "for j in range(1):\n",
    "    Ns=Nss[2]\n",
    "    print(Ns)\n",
    "    for k in range(2,3):\n",
    "        for s in range(2,k+1):\n",
    "            y_a,y_l,y_u,y_pol=alpha_threshold_finder_for_multiple_N(Ns,problem,k,s)\n",
    "            clf = LinearRegression(fit_intercept=True)\n",
    "            clf.fit([[1/(N)] for N in Ns],y_pol)\n",
    "\n",
    "            b=clf.predict([[0]])[0]\n",
    "            #a=clf.predict([[1]])[0]-b\n",
    "\n",
    "            print(j,k,s,b)\n",
    "        print('\\n')\n",
    "    "
   ]
  },
  {
   "cell_type": "code",
   "execution_count": null,
   "metadata": {
    "scrolled": true
   },
   "outputs": [],
   "source": [
    "problem=3\n",
    "k=1\n",
    "s=1\n",
    "R=550\n",
    "R_std=10\n",
    "R_inc=1\n",
    "Nss=[[98,99,100,101,102,198,199,200,201,202,298,299,300,301,302,398,399,400,401,402],\n",
    "     [i for i in range(R-R_std,R+R_std+1,R_inc)]\n",
    "    ]\n",
    "ratio_1=[]\n",
    "ratio_2=[]\n",
    "for R in range(100,200,20): \n",
    "    Nss=[[],[i for i in range(R-R_std,R+R_std+1,R_inc)]]\n",
    "    for j in range(1):\n",
    "        Ns=Nss[1]\n",
    "        print(Ns)\n",
    "        for k in range(2,3):\n",
    "            for s in range(2,k+1):\n",
    "                y_a,y_l,y_u,y_pol=alpha_threshold_finder_for_multiple_N(Ns,problem,k,s)\n",
    "                clf = LinearRegression(fit_intercept=True)\n",
    "                clf.fit([[1/(N)] for N in Ns],y_pol)\n",
    "\n",
    "                b=clf.predict([[0]])[0]\n",
    "                #a=clf.predict([[1]])[0]-b\n",
    "\n",
    "                print(j,k,s,b)\n",
    "                ratio_1.append(b)\n",
    "                \n",
    "                \n",
    "                clf = LinearRegression(fit_intercept=True)\n",
    "                clf.fit([[1/N] for N in Ns],y_a)\n",
    "\n",
    "                b=clf.predict([[0]])[0]\n",
    "                #a=clf.predict([[1]])[0]-b\n",
    "                ratio_2.append(b)\n",
    "            print('\\n')\n",
    "ratio"
   ]
  },
  {
   "cell_type": "code",
   "execution_count": null,
   "metadata": {},
   "outputs": [],
   "source": [
    "plt.boxplot([[r-2/3 for r in ratio_1],[r-2/3 for r in ratio_2]])\n"
   ]
  },
  {
   "cell_type": "code",
   "execution_count": null,
   "metadata": {
    "scrolled": true
   },
   "outputs": [],
   "source": [
    "problem=3\n",
    "k=1\n",
    "s=1\n",
    "R=551\n",
    "R_std=450\n",
    "R_inc=5\n",
    "Nss=[[98,99,100,101,102,198,199,200,201,202,298,299,300,301,302,398,399,400,401,402],\n",
    "     [i for i in range(R-R_std,R+R_std+1,R_inc)]\n",
    "    ]\n",
    "for j in range(1):\n",
    "    Ns=Nss[1]\n",
    "    print(Ns)\n",
    "    for k in range(1,2):\n",
    "        for s in range(1,k+1):\n",
    "            y_a,y_l,y_u,y_pol=alpha_threshold_finder_for_multiple_N(Ns,problem,k,s)\n",
    "            clf = LinearRegression(fit_intercept=True)\n",
    "            clf.fit([[1/(N)] for N in Ns],y_pol)\n",
    "\n",
    "            b=clf.predict([[0]])[0]\n",
    "            #a=clf.predict([[1]])[0]-b\n",
    "\n",
    "            print(j,k,s,b)\n",
    "        print('\\n')\n",
    "    "
   ]
  },
  {
   "cell_type": "code",
   "execution_count": null,
   "metadata": {
    "scrolled": true
   },
   "outputs": [],
   "source": [
    "problem=3\n",
    "k=1\n",
    "s=1\n",
    "R=552\n",
    "R_std=450\n",
    "R_inc=5\n",
    "Nss=[[98,99,100,101,102,198,199,200,201,202,298,299,300,301,302,398,399,400,401,402],\n",
    "     [i for i in range(R-R_std,R+R_std+1,R_inc)]\n",
    "    ]\n",
    "for j in range(1):\n",
    "    Ns=Nss[1]\n",
    "    print(Ns)\n",
    "    for k in range(1,2):\n",
    "        for s in range(1,k+1):\n",
    "            y_a,y_l,y_u,y_pol=alpha_threshold_finder_for_multiple_N(Ns,problem,k,s)\n",
    "            clf = LinearRegression(fit_intercept=True)\n",
    "            clf.fit([[1/(N)] for N in Ns],y_pol)\n",
    "\n",
    "            b=clf.predict([[0]])[0]\n",
    "            #a=clf.predict([[1]])[0]-b\n",
    "\n",
    "            print(j,k,s,b)\n",
    "        print('\\n')\n",
    "    "
   ]
  },
  {
   "cell_type": "code",
   "execution_count": null,
   "metadata": {
    "scrolled": true
   },
   "outputs": [],
   "source": [
    "problem=3\n",
    "k=1\n",
    "s=1\n",
    "R=553\n",
    "R_std=450\n",
    "R_inc=5\n",
    "Nss=[[98,99,100,101,102,198,199,200,201,202,298,299,300,301,302,398,399,400,401,402],\n",
    "     [i for i in range(R-R_std,R+R_std+1,R_inc)]\n",
    "    ]\n",
    "for j in range(1):\n",
    "    Ns=Nss[1]\n",
    "    print(Ns)\n",
    "    for k in range(1,2):\n",
    "        for s in range(1,k+1):\n",
    "            y_a,y_l,y_u,y_pol=alpha_threshold_finder_for_multiple_N(Ns,problem,k,s)\n",
    "            clf = LinearRegression(fit_intercept=True)\n",
    "            clf.fit([[1/(N)] for N in Ns],y_pol)\n",
    "\n",
    "            b=clf.predict([[0]])[0]\n",
    "            #a=clf.predict([[1]])[0]-b\n",
    "\n",
    "            print(j,k,s,b)\n",
    "        print('\\n')\n",
    "    "
   ]
  },
  {
   "cell_type": "code",
   "execution_count": null,
   "metadata": {
    "scrolled": true
   },
   "outputs": [],
   "source": [
    "problem=3\n",
    "k=1\n",
    "s=1\n",
    "R=750\n",
    "R_std=500\n",
    "R_inc=25\n",
    "Nss=[[98,99,100,101,102,198,199,200,201,202,298,299,300,301,302,398,399,400,401,402],\n",
    "     [i for i in range(R-R_std,R+R_std+1,R_inc)]\n",
    "    ]\n",
    "for j in range(1):\n",
    "    Ns=Nss[1]\n",
    "    print(Ns)\n",
    "    for k in range(1,3):\n",
    "        for s in range(1,k+1):\n",
    "            y_a,y_l,y_u,y_pol=alpha_threshold_finder_for_multiple_N(Ns,problem,k,s)\n",
    "            clf = LinearRegression(fit_intercept=True)\n",
    "            clf.fit([[1/(N)] for N in Ns],y_pol)\n",
    "\n",
    "            b=clf.predict([[0]])[0]\n",
    "            #a=clf.predict([[1]])[0]-b\n",
    "\n",
    "            print(j,k,s,b)\n",
    "        print('\\n')\n",
    "    "
   ]
  },
  {
   "cell_type": "code",
   "execution_count": null,
   "metadata": {
    "scrolled": true
   },
   "outputs": [],
   "source": [
    "problem=3\n",
    "k=1\n",
    "s=1\n",
    "R=751\n",
    "R_std=500\n",
    "R_inc=25\n",
    "Nss=[[98,99,100,101,102,198,199,200,201,202,298,299,300,301,302,398,399,400,401,402],\n",
    "     [i for i in range(R-R_std,R+R_std+1,R_inc)]\n",
    "    ]\n",
    "for j in range(1):\n",
    "    Ns=Nss[1]\n",
    "    print(Ns)\n",
    "    for k in range(1,3):\n",
    "        for s in range(1,k+1):\n",
    "            y_a,y_l,y_u,y_pol=alpha_threshold_finder_for_multiple_N(Ns,problem,k,s)\n",
    "            clf = LinearRegression(fit_intercept=True)\n",
    "            clf.fit([[1/(N)] for N in Ns],y_pol)\n",
    "\n",
    "            b=clf.predict([[0]])[0]\n",
    "            #a=clf.predict([[1]])[0]-b\n",
    "\n",
    "            print(j,k,s,b)\n",
    "        print('\\n')\n",
    "    "
   ]
  },
  {
   "cell_type": "code",
   "execution_count": null,
   "metadata": {
    "scrolled": true
   },
   "outputs": [],
   "source": [
    "problem=3\n",
    "k=1\n",
    "s=1\n",
    "R=750\n",
    "R_std=500\n",
    "R_inc=10\n",
    "Nss=[[98,99,100,101,102,198,199,200,201,202,298,299,300,301,302,398,399,400,401,402],\n",
    "     [i for i in range(R-R_std,R+R_std+1,R_inc)]\n",
    "    ]\n",
    "for j in range(1):\n",
    "    Ns=Nss[1]\n",
    "    print(Ns)\n",
    "    for k in range(1,3):\n",
    "        for s in range(1,k+1):\n",
    "            y_a,y_l,y_u,y_pol=alpha_threshold_finder_for_multiple_N(Ns,problem,k,s)\n",
    "            clf = LinearRegression(fit_intercept=True)\n",
    "            clf.fit([[1/(N)] for N in Ns],y_pol)\n",
    "\n",
    "            b=clf.predict([[0]])[0]\n",
    "            #a=clf.predict([[1]])[0]-b\n",
    "\n",
    "            print(j,k,s,b)\n",
    "        print('\\n')\n",
    "    "
   ]
  },
  {
   "cell_type": "code",
   "execution_count": null,
   "metadata": {
    "scrolled": true
   },
   "outputs": [],
   "source": [
    "problem=3\n",
    "k=1\n",
    "s=1\n",
    "R=50\n",
    "R_std=40\n",
    "R_inc=1\n",
    "Nss=[[98,99,100,101,102,198,199,200,201,202,298,299,300,301,302,398,399,400,401,402],\n",
    "     [i for i in range(R-R_std,R+R_std+1,R_inc)]\n",
    "    ]\n",
    "for j in range(1):\n",
    "    Ns=Nss[1]\n",
    "    print(Ns)\n",
    "    for k in range(1,2):\n",
    "        for s in range(1,k+1):\n",
    "            y_a,y_l,y_u,y_pol=alpha_threshold_finder_for_multiple_N(Ns,problem,k,s)\n",
    "            clf = LinearRegression(fit_intercept=True)\n",
    "            clf.fit([[1/(N)] for N in Ns][0:20],y_pol[0:20])\n",
    "\n",
    "            b=clf.predict([[0]])[0]\n",
    "            #a=clf.predict([[1]])[0]-b\n",
    "\n",
    "            print(j,k,s,b)\n",
    "        print('\\n')\n",
    "    "
   ]
  },
  {
   "cell_type": "code",
   "execution_count": null,
   "metadata": {
    "scrolled": true
   },
   "outputs": [],
   "source": [
    "problem=2\n",
    "k=1\n",
    "s=1\n",
    "R=1000\n",
    "R_std=100\n",
    "R_inc=10\n",
    "Nss=[[98,99,100,101,102,198,199,200,201,202,298,299,300,301,302,398,399,400,401,402],\n",
    "     [i for i in range(R-R_std,R+R_std+1,R_inc)]\n",
    "    ]\n",
    "for j in range(1):\n",
    "    Ns=Nss[1]\n",
    "    print(Ns)\n",
    "    for k in range(1,5):\n",
    "        for s in range(1,k+1):\n",
    "            y_a,y_l,y_u,y_pol=alpha_threshold_finder_for_multiple_N(Ns,problem,k,s)\n",
    "            clf = LinearRegression(fit_intercept=True)\n",
    "            clf.fit([[1/(N)] for N in Ns][0:20],y_pol[0:20])\n",
    "\n",
    "            b=clf.predict([[0]])[0]\n",
    "            #a=clf.predict([[1]])[0]-b\n",
    "\n",
    "            print(j,k,s,b)\n",
    "        print('\\n')\n",
    "    "
   ]
  },
  {
   "cell_type": "code",
   "execution_count": null,
   "metadata": {
    "scrolled": true
   },
   "outputs": [],
   "source": [
    "problem=2\n",
    "k=1\n",
    "s=1\n",
    "R=1000\n",
    "R_std=100\n",
    "R_inc=10\n",
    "Nss=[[98,99,100,101,102,198,199,200,201,202,298,299,300,301,302,398,399,400,401,402],\n",
    "     [i for i in range(R-R_std,R+R_std+1,R_inc)]\n",
    "    ]\n",
    "for j in range(1):\n",
    "    Ns=Nss[1]\n",
    "    print(Ns)\n",
    "    for k in range(5,6):\n",
    "        for s in range(3,k+1):\n",
    "            y_a,y_l,y_u,y_pol=alpha_threshold_finder_for_multiple_N(Ns,problem,k,s)\n",
    "            clf = LinearRegression(fit_intercept=True)\n",
    "            clf.fit([[1/(N)] for N in Ns][0:20],y_pol[0:20])\n",
    "\n",
    "            b=clf.predict([[0]])[0]\n",
    "            #a=clf.predict([[1]])[0]-b\n",
    "\n",
    "            print(j,k,s,b)\n",
    "        print('\\n')\n",
    "    "
   ]
  },
  {
   "cell_type": "code",
   "execution_count": null,
   "metadata": {},
   "outputs": [],
   "source": [
    "y_a"
   ]
  },
  {
   "cell_type": "code",
   "execution_count": null,
   "metadata": {},
   "outputs": [],
   "source": [
    "y_pred=clf.predict([[1/(N)] for N in Ns])\n",
    "[(y_a[j]*Ns[j],[y_pred[i] for i in range(len(Ns))][j]*Ns[j]) for j in range(len(Ns))]"
   ]
  },
  {
   "cell_type": "code",
   "execution_count": null,
   "metadata": {},
   "outputs": [],
   "source": [
    "plt.plot(Ns,[np.ceil(y_pred[j]*Ns[j])/Ns[j] for j in range(len(Ns))])\n",
    "plt.plot(Ns,[np.floor(y_pred[j]*Ns[j])/Ns[j] for j in range(len(Ns))])\n",
    "plt.scatter(Ns,y_a)"
   ]
  },
  {
   "cell_type": "code",
   "execution_count": null,
   "metadata": {},
   "outputs": [],
   "source": [
    "y_pred=[20/30 for N in Ns]\n",
    "#plt.plot(Ns,[np.ceil(y_pred[j]*Ns[j])/Ns[j] for j in range(len(Ns))])\n",
    "#plt.plot(Ns,[np.floor(y_pred[j]*Ns[j])/Ns[j] for j in range(len(Ns))])\n",
    "plt.plot(Ns,y_a)\n",
    "plt.plot(Ns,y_pol)\n",
    "plt.legend(['alpha_1*/n','q*'])\n",
    "plt.xlabel('n')\n",
    "plt.ylabel('P(n,alpha_1*)')"
   ]
  },
  {
   "cell_type": "code",
   "execution_count": null,
   "metadata": {},
   "outputs": [],
   "source": [
    "y_pol[0],y_pol[-1]"
   ]
  },
  {
   "cell_type": "code",
   "execution_count": null,
   "metadata": {},
   "outputs": [],
   "source": [
    "y_c=[np.ceil(y_pred[j]*Ns[j])/Ns[j] for j in range(len(Ns))]\n",
    "y_f=[np.floor(y_pred[j]*Ns[j])/Ns[j] for j in range(len(Ns))]"
   ]
  },
  {
   "cell_type": "code",
   "execution_count": null,
   "metadata": {},
   "outputs": [],
   "source": [
    "y_pred=[[1/(np.exp(1))] for N in Ns]\n",
    "for j in range(len(Ns)):\n",
    "    if not (y_a[j]*Ns[j]>=y_f[j]*Ns[j] and y_a[j]*Ns[j]<=y_c[j]*Ns[j]):\n",
    "        print(y_a[j]*Ns[j],y_f[j]*Ns[j],(y_a[j]*Ns[j]>=y_f[j]*Ns[j] and y_a[j]*Ns[j]<=y_c[j]*Ns[j]))"
   ]
  },
  {
   "cell_type": "code",
   "execution_count": null,
   "metadata": {},
   "outputs": [],
   "source": [
    "y_f"
   ]
  },
  {
   "cell_type": "code",
   "execution_count": null,
   "metadata": {},
   "outputs": [],
   "source": [
    "errs=[]\n",
    "cs=[]\n",
    "for c in [i for i in range(1)]:\n",
    "    clf = LinearRegression(fit_intercept=True)\n",
    "    clf.fit([[1/np.log(N)] for N in Ns],y_pol)\n",
    "\n",
    "    b=clf.predict([[0]])[0]\n",
    "    #a=clf.predict([[1]])[0]-b\n",
    "    errs.append(np.abs(2/3-b))\n",
    "    cs.append(c)\n",
    "    print(c,j,k,s,b,clf.coef_)\n",
    "    print('\\n')\n",
    "plt.plot(cs,errs)"
   ]
  },
  {
   "cell_type": "code",
   "execution_count": null,
   "metadata": {},
   "outputs": [],
   "source": [
    "(max(y_a)-min(y_a))/(max(y_pol)-min(y_pol))"
   ]
  },
  {
   "cell_type": "code",
   "execution_count": null,
   "metadata": {},
   "outputs": [],
   "source": [
    "sum(y_pol)/len(y_pol)"
   ]
  },
  {
   "cell_type": "code",
   "execution_count": null,
   "metadata": {},
   "outputs": [],
   "source": [
    "np.std(y_a)/np.std(y_pol)"
   ]
  },
  {
   "cell_type": "code",
   "execution_count": null,
   "metadata": {},
   "outputs": [],
   "source": [
    "clf.coef_"
   ]
  },
  {
   "cell_type": "code",
   "execution_count": null,
   "metadata": {},
   "outputs": [],
   "source": [
    "y_pol[0],y_pol[-1],y_e[-1]"
   ]
  },
  {
   "cell_type": "code",
   "execution_count": null,
   "metadata": {},
   "outputs": [],
   "source": [
    "min(y_pol),max(y_pol)"
   ]
  },
  {
   "cell_type": "code",
   "execution_count": null,
   "metadata": {},
   "outputs": [],
   "source": [
    "y_a[0],y_a[-2]"
   ]
  },
  {
   "cell_type": "code",
   "execution_count": null,
   "metadata": {},
   "outputs": [],
   "source": [
    "sum(y_a)/len(y_a)"
   ]
  },
  {
   "cell_type": "code",
   "execution_count": null,
   "metadata": {},
   "outputs": [],
   "source": [
    "min(y_u),max(y_l)"
   ]
  },
  {
   "cell_type": "code",
   "execution_count": null,
   "metadata": {},
   "outputs": [],
   "source": [
    "y_pol"
   ]
  },
  {
   "cell_type": "code",
   "execution_count": null,
   "metadata": {},
   "outputs": [],
   "source": [
    "plt.scatter(G[1],G[2])\n",
    "\n",
    "for qcoefs in G[3][:2]:\n",
    "    x_=np.linspace(0.35,0.4,200)\n",
    "    y_=[sum([x**i*qcoefs[-i-1] for i in range(len(qcoefs))]) for x in x_]\n",
    "\n",
    "    plt.plot(x_,y_)\n"
   ]
  },
  {
   "cell_type": "code",
   "execution_count": null,
   "metadata": {},
   "outputs": [],
   "source": [
    "x=1\n",
    "[x**i*qcoefs[-i]for i in range(len(qcoefs)-1,-1,-1)]"
   ]
  },
  {
   "cell_type": "code",
   "execution_count": null,
   "metadata": {},
   "outputs": [],
   "source": [
    "qcoefs"
   ]
  },
  {
   "cell_type": "code",
   "execution_count": null,
   "metadata": {},
   "outputs": [],
   "source": [
    "\n",
    "\n",
    "cmf.find_expected_nr_of_observed_candidates(N,D)/N"
   ]
  },
  {
   "cell_type": "code",
   "execution_count": null,
   "metadata": {},
   "outputs": [],
   "source": [
    "y_u[-1]/2+y_l[-1]/2,min(y_u)-max(y_l),y_u[-1]-y_l[-1]\n",
    "\n"
   ]
  },
  {
   "cell_type": "code",
   "execution_count": null,
   "metadata": {},
   "outputs": [],
   "source": [
    "sum(y_pol)/len(y_pol),1/np.exp(1)"
   ]
  },
  {
   "cell_type": "markdown",
   "metadata": {},
   "source": [
    "rou=4\n",
    "Ns=[10,20,50,100,1000,10000]\n",
    "#Ns=[10,11,12,13]\n",
    "#print tables\n",
    "if False:\n",
    "    #Classic\n",
    "    for N in Ns:\n",
    "        U=cmf.create_payoff_array(N,0,0)\n",
    "        D,E,dyn_hiring_rule=cmf.dynamic_solution_general_form(N,U)\n",
    "        pr=np.round(E[0][0],rou)\n",
    "        ex=np.round(cmf.find_expected_nr_of_observed_candidates(N,D)/N,rou)\n",
    "        a,b=find_threshold_interval(D,1)\n",
    "        a_1='({}, {})'.format(np.round((a-1)/N,rou),np.round((a+1)/N,rou))\n",
    "        print('{} & {} & {} & {}'.format(N,pr,ex,a_1))\n",
    "else:\n",
    "    #3rd Best\n",
    "    for N in Ns:\n",
    "        U=cmf.create_payoff_array(N,2,3)\n",
    "        D,E,dyn_hiring_rule=cmf.dynamic_solution_general_form(N,U)\n",
    "        pr=np.round(E[0][0],rou)\n",
    "        ex=np.round(cmf.find_expected_nr_of_observed_candidates(N,D)/N,rou)\n",
    "        a,b=find_threshold_interval(D,1)\n",
    "        a_1='({}, {})'.format(np.round((a-1)/N,rou),np.round((a+1)/N,rou))\n",
    "        a,b=find_threshold_interval(D,2)\n",
    "        a_2='({}, {})'.format(np.round((a-1)/N,rou),np.round((a+1)/N,rou))\n",
    "        a,b=find_threshold_interval(D,3)\n",
    "        a_3='({}, {})'.format(np.round((a-1)/N,rou),np.round((a+1)/N,rou))\n",
    "        print('{} & {} & {} & {} & {}'.format(N,pr,ex,a_2,a_3))\n",
    "    "
   ]
  },
  {
   "cell_type": "code",
   "execution_count": null,
   "metadata": {},
   "outputs": [],
   "source": [
    "rou=4\n",
    "Ns=[10,20,50,100,1000,10000]\n",
    "#Ns=[10,11,12,13]\n",
    "#print tables\n",
    "if False:\n",
    "    #Classic\n",
    "    for N in Ns:\n",
    "        U=cmf.create_payoff_array(N,0,0)\n",
    "        D,E,dyn_hiring_rule=cmf.dynamic_solution_general_form(N,U)\n",
    "        pr=np.round(E[0][0],rou)\n",
    "        ex=np.round(cmf.find_expected_nr_of_observed_candidates(N,D)/N,rou)\n",
    "        a,b=find_threshold_interval(D,1)\n",
    "        a_1='{}'.format(np.round((a)/N,rou))\n",
    "        print('{} & {} & {} & {}'.format(N,pr,ex,a_1))\n",
    "else:\n",
    "    #3rd Best\n",
    "    for N in Ns:\n",
    "        U=cmf.create_payoff_array(N,2,3)\n",
    "        D,E,dyn_hiring_rule=cmf.dynamic_solution_general_form(N,U)\n",
    "        pr=np.round(E[0][0],rou)\n",
    "        ex=np.round(cmf.find_expected_nr_of_observed_candidates(N,D)/N,rou)\n",
    "        a,b=find_threshold_interval(D,1)\n",
    "        a_1='{}'.format(np.round((a)/N,rou))\n",
    "        a,b=find_threshold_interval(D,2)\n",
    "        a_2='{}'.format(np.round((a)/N,rou))\n",
    "        a,b=find_threshold_interval(D,3)\n",
    "        a_3='{}'.format(np.round((a)/N,rou))\n",
    "        print('{} & {} & {} & {} & {} \\\\\\ \\hline'.format(N,pr,ex,a_2,a_3))\n",
    "        \n",
    "    #4th Best\n",
    "    for N in Ns:\n",
    "        U=cmf.create_payoff_array(N,2,4)\n",
    "        D,E,dyn_hiring_rule=cmf.dynamic_solution_general_form(N,U)\n",
    "        pr=np.round(E[0][0],rou)\n",
    "        ex=np.round(cmf.find_expected_nr_of_observed_candidates(N,D)/N,rou)\n",
    "        a,b=find_threshold_interval(D,1)\n",
    "        a_1='{}'.format(np.round((a)/N,rou))\n",
    "        a,b=find_threshold_interval(D,2)\n",
    "        a_2='{}'.format(np.round((a)/N,rou))\n",
    "        a,b=find_threshold_interval(D,3)\n",
    "        a_3='{}'.format(np.round((a)/N,rou))\n",
    "        a,b=find_threshold_interval(D,4)\n",
    "        a_4='{}'.format(np.round((a)/N,rou))\n",
    "        print('{} & {} & {} & {} & {} \\\\\\ \\hline'.format(N,pr,ex,a_3,a_4))\n",
    "    "
   ]
  },
  {
   "cell_type": "code",
   "execution_count": null,
   "metadata": {},
   "outputs": [],
   "source": []
  },
  {
   "cell_type": "code",
   "execution_count": null,
   "metadata": {},
   "outputs": [],
   "source": [
    "alphas,betas"
   ]
  },
  {
   "cell_type": "code",
   "execution_count": null,
   "metadata": {},
   "outputs": [],
   "source": [
    "alphas,betas"
   ]
  },
  {
   "cell_type": "code",
   "execution_count": null,
   "metadata": {},
   "outputs": [],
   "source": [
    "#vanderbei test\n",
    "for N in [2,3,4,5,6,7,8,9,10,19,20]:\n",
    "    k_0=np.floor(N/2)\n",
    "    print(N,k_0,k_0*(N-k_0)/N/(N-1),(N/2/(4*N/2-2)))"
   ]
  },
  {
   "cell_type": "code",
   "execution_count": null,
   "metadata": {},
   "outputs": [],
   "source": [
    "def plot_figures(figure_id=1,N=10):\n",
    "    if figure_id==1:\n",
    "        #standarad problem solution\n",
    "        U=cmf.create_payoff_array(N,0,7)\n",
    "        print(U)\n",
    "        D,E,dyn_hiring_rule=cmf.dynamic_solution_general_form(N,U)\n",
    "        print(E[0])\n",
    "        vf.plot_decision_graph(D,if_latex=True)\n",
    "    if figure_id==2:\n",
    "        #2nd best solution\n",
    "        U=cmf.create_payoff_array(N,2,2)\n",
    "        print(U)\n",
    "        D,E,dyn_hiring_rule=cmf.dynamic_solution_general_form(N,U)\n",
    "        print(E[0])\n",
    "        vf.plot_decision_graph(D,if_latex=True)\n",
    "    if figure_id==3:\n",
    "        #Vanderbei's 2nd best solution\n",
    "        U=cmf.create_payoff_array(N,2,2)\n",
    "        print(U)\n",
    "        D,E,dyn_hiring_rule=cmf.dynamic_solution_general_form(N,U)\n",
    "        D[-2][0]=False\n",
    "        print(E[0])\n",
    "        D,E,dyn_hiring_rule=cmf.evaluate_the_strategy(N,U,D)\n",
    "        vf.plot_decision_graph(D,if_latex=True)\n",
    "    if figure_id==4:\n",
    "        #3rd best\n",
    "        U=cmf.create_payoff_array(N,2,3)\n",
    "        print(U)\n",
    "        D,E,dyn_hiring_rule=cmf.dynamic_solution_general_form(N,U)\n",
    "        D,E,dyn_hiring_rule=cmf.evaluate_the_strategy(N,U,D)\n",
    "        vf.plot_decision_graph(D,if_latex=True)    \n",
    "    if figure_id==5:\n",
    "        #5th best\n",
    "        U=cmf.create_payoff_array(N,2,5)\n",
    "        print(U)\n",
    "        D,E,dyn_hiring_rule=cmf.dynamic_solution_general_form(N,U)\n",
    "        print(E[0])\n",
    "        D,E,dyn_hiring_rule=cmf.evaluate_the_strategy(N,U,D)\n",
    "        vf.plot_decision_graph(D,if_latex=True)    \n",
    "    if figure_id==6:\n",
    "        #Median Item\n",
    "        U=cmf.create_payoff_array(N,1.6,0)\n",
    "        print(U)\n",
    "        D,E,dyn_hiring_rule=cmf.dynamic_solution_general_form(N,U)\n",
    "        print(E[0])\n",
    "        D,E,dyn_hiring_rule=cmf.evaluate_the_strategy(N,U,D)\n",
    "        plt=vf.plot_decision_graph(D,if_latex=True)  \n",
    "        plt.plot([1,11],[1,6],'black')\n",
    "    \n",
    "    \n",
    "plot_figures(5,10)\n"
   ]
  },
  {
   "cell_type": "code",
   "execution_count": null,
   "metadata": {},
   "outputs": [],
   "source": [
    "for j in range(8):\n",
    "    x=False\n",
    "    for i in range(len(D)-1):\n",
    "        if i>=j:\n",
    "            #print(i,j,D[i][j])\n",
    "            if x!=D[i][j]:\n",
    "                x=D[i][j]\n",
    "                print(i+1,i/N,(i+1)/N,j+1)"
   ]
  },
  {
   "cell_type": "code",
   "execution_count": null,
   "metadata": {},
   "outputs": [],
   "source": [
    "D"
   ]
  },
  {
   "cell_type": "markdown",
   "metadata": {},
   "source": [
    "###### rel_ranks,ranks=dgf.generate_candidates_v2(N)"
   ]
  },
  {
   "cell_type": "code",
   "execution_count": null,
   "metadata": {},
   "outputs": [],
   "source": [
    "pay_offs=[U[r-1] for r in ranks]\n",
    "pay_offs"
   ]
  },
  {
   "cell_type": "code",
   "execution_count": null,
   "metadata": {},
   "outputs": [],
   "source": [
    "CD=[dgf.generate_candidates_v2(N) for i in range(100000)]\n",
    "sf.evaluate_the_hiring_strategy(N,U,D,CD)"
   ]
  },
  {
   "cell_type": "code",
   "execution_count": null,
   "metadata": {},
   "outputs": [],
   "source": [
    "D[-4]"
   ]
  },
  {
   "cell_type": "code",
   "execution_count": null,
   "metadata": {},
   "outputs": [],
   "source": [
    "E[-4]"
   ]
  },
  {
   "cell_type": "code",
   "execution_count": null,
   "metadata": {},
   "outputs": [],
   "source": [
    "N=10\n",
    "cmf.create_payoff_array(5,5.2,2)"
   ]
  },
  {
   "cell_type": "code",
   "execution_count": null,
   "metadata": {},
   "outputs": [],
   "source": [
    "problem=1.6\n",
    "k=0.37\n",
    "\n",
    "Ns=[N for N in range(max(5,k),3010,75)]#+[N for N in range(20,50,5)]\n",
    "xs,ys=[],[]\n",
    "\n",
    "for N in Ns:\n",
    "    if not (problem,k,N) in exp_utility:\n",
    "        print(N,'started')\n",
    "        U=cmf.create_payoff_array(N,problem,k)\n",
    "        D,E,dyn_hiring_rule=cmf.dynamic_solution_general_form(N,U)\n",
    "        exp_utility[(problem,k,N)]=E[0][0]\n",
    "\n",
    "    save_obj(exp_utility,'exp_utility')\n",
    "    \n",
    "    \n",
    "    \n",
    "if False:\n",
    "    xs.append(N)\n",
    "    ys.append(E[0][0])\n",
    "    plt.plot(xs,ys)\n",
    "    plt.scatter(xs,ys)\n",
    "\n",
    "    \n",
    "    xs,ys=[],[]\n",
    "    for N in Ns:\n",
    "        U=cmf.create_payoff_array(N,5.1,1)\n",
    "        D,E,dyn_hiring_rule=cmf.dynamic_solution_general_form(N,U)\n",
    "        xs.append(N)\n",
    "        ys.append(E[0][0])\n",
    "    plt.plot(xs,ys)\n",
    "    plt.scatter(xs,ys)\n",
    "\n",
    "\n",
    "    xs,ys=[],[]\n",
    "    for N in Ns:\n",
    "        U=cmf.create_payoff_array(N,5.2,1)\n",
    "        D,E,dyn_hiring_rule=cmf.dynamic_solution_general_form(N,U)\n",
    "        xs.append(N)\n",
    "        ys.append(E[0][0])\n",
    "    plt.plot(xs,ys)\n",
    "    plt.scatter(xs,ys)"
   ]
  },
  {
   "cell_type": "code",
   "execution_count": null,
   "metadata": {},
   "outputs": [],
   "source": [
    "xs,ys=[],[]\n",
    "for i in exp_utility:\n",
    "    p,k_0,x=i\n",
    "    if p==problem and k_0==k and x<20:\n",
    "        xs.append(x)\n",
    "        ys.append(exp_utility[i])"
   ]
  },
  {
   "cell_type": "code",
   "execution_count": null,
   "metadata": {},
   "outputs": [],
   "source": [
    "ys"
   ]
  },
  {
   "cell_type": "code",
   "execution_count": null,
   "metadata": {},
   "outputs": [],
   "source": [
    "#k=0.4\n",
    "asy=0.25\n",
    "for problem in [1.6]:\n",
    "    xs,ys=[],[]\n",
    "    for i in exp_utility:\n",
    "        p,k_0,x=i\n",
    "        if p==problem and k_0==k and x<10000:\n",
    "            xs.append(x)\n",
    "            ys.append(exp_utility[i])\n",
    "    plt.scatter(xs,ys)\n",
    "    #plt.plot(xs,[asy for x in xs])\n",
    "plt.xlabel('Number of Candidates (N)')\n",
    "plt.ylabel('Expected Utility')\n",
    "plt.title('Expected Utility vs Number of Candidates')\n",
    "#plt.legend(['Optimal Exp. Utility for N','Asympt. Optimal Exp. Utility (N -> Inf)'])"
   ]
  },
  {
   "cell_type": "code",
   "execution_count": null,
   "metadata": {},
   "outputs": [],
   "source": [
    "cmf.create_payoff_array(8,1.6,k)"
   ]
  },
  {
   "cell_type": "code",
   "execution_count": null,
   "metadata": {},
   "outputs": [],
   "source": [
    "exp_utility[(1.6,0.2,20)]"
   ]
  },
  {
   "cell_type": "code",
   "execution_count": null,
   "metadata": {},
   "outputs": [],
   "source": [
    "from scipy.optimize import curve_fit\n",
    "def func(x, a, b, c, e):\n",
    "    return a * np.exp(-b * np.asarray(x)) + c+e/x\n",
    "\n",
    "def func2(x, a,b,c, e):\n",
    "    return c+e/x+a/x/x+b/x/x/x\n",
    "\n",
    "popt, pcov = curve_fit(func, xs, ys, bounds=(0, [5., 5., 0.5,5]))\n",
    "popt"
   ]
  },
  {
   "cell_type": "code",
   "execution_count": null,
   "metadata": {},
   "outputs": [],
   "source": [
    "def dynamic_solution_general_form(n,U):\n",
    "    '''n: the number of candidates\n",
    "       U: payoffs for each candidate, U[x-1] is the payoff of best xth candidate. \n",
    "       \n",
    "       returns the strategy which maximizes the expected payoff\n",
    "       \n",
    "       For example: U=[1,0,0,.....] gives the classical problem. U=[-1,-2,..,-n] gives the expected rank minimization\n",
    "    '''\n",
    "    Decisions_Accept=[[True for i in range(j)] for j in range(1,n+1)]\n",
    "    I=np.zeros((n,n))\n",
    "    I[-1]=U.copy()\n",
    "    for r in range(-2,-n-1,-1):\n",
    "        for s in range(0,n+r+1):\n",
    "            I[r][s]=I[r+1][s]*(1-(s+1)/(n+r+2))+I[r+1][s+1]*((s+1)/(n+r+2))\n",
    "\n",
    "    E=np.zeros((n,n))\n",
    "    E[-1]=U.copy()\n",
    "    for r in range(-2,-n-1,-1):\n",
    "        expected_r=sum(E[r+1])/(n+r+2)\n",
    "        for s in range(0,n+r+1):\n",
    "            if I[r][s]<expected_r:\n",
    "                Decisions_Accept[r][s]=False\n",
    "                E[r][s]=expected_r\n",
    "            else:\n",
    "                E[r][s]=I[r][s]\n",
    "\n",
    "    return Decisions_Accept,E,I\n",
    "N=100\n",
    "\n",
    "import time\n",
    "start_time = time.time()\n",
    "U=cmf.create_payoff_array(N,1.1,1)\n",
    "#print(U)\n",
    "D,E,I=cmf.dynamic_solution_general_form_archived(N,U)\n",
    "\n",
    "print(N,\"Before:  --- %s seconds ---\" % (time.time() - start_time))\n",
    "\n",
    "\n",
    "start_time = time.time()\n",
    "U=cmf.create_payoff_array(N,1.1,1)\n",
    "#print(U)\n",
    "D,E,I=dynamic_solution_general_form(N,U)\n",
    "\n",
    "print(N,\"After:  --- %s seconds ---\" % (time.time() - start_time))\n",
    "\n",
    "print(E[0][0])\n",
    "#vf.plot_decision_graph(D,if_latex=True)"
   ]
  },
  {
   "cell_type": "code",
   "execution_count": null,
   "metadata": {},
   "outputs": [],
   "source": [
    "I"
   ]
  },
  {
   "cell_type": "code",
   "execution_count": null,
   "metadata": {},
   "outputs": [],
   "source": [
    "N=10\n",
    "Decisions_Accept=[[True for i in range(j)] for j in range(n)]\n",
    "I=np.zeros((n,n))\n",
    "I[-1]=U.copy()\n",
    "for r in range(-2,-n,-1):\n",
    "    for s in range(0,n+r+1):\n",
    "        I[r][s]=I[r+1][s]*(s+1)/(n+r+2)+I[r+1][s+1]*(1-(s+1)/(n+r+2))\n",
    "        \n",
    "E=np.zeros((n,n))\n",
    "E[-1]=U.copy()\n",
    "\n",
    "for r in range(-2,-n,-1):\n",
    "    expected_r=sum(E[r])/(n+r+2)\n",
    "    for s in range(0,n+r+1):\n",
    "        if I[r][s]<expected_r:\n",
    "            Decisions_accept[r][s]=False\n",
    "            E[r][s]=expected_r\n",
    "        else:\n",
    "            E[r][s]=I[r][s]\n",
    "        \n",
    "\n",
    "\n"
   ]
  },
  {
   "cell_type": "code",
   "execution_count": null,
   "metadata": {},
   "outputs": [],
   "source": [
    "xs[100-xs[0]]"
   ]
  },
  {
   "cell_type": "code",
   "execution_count": null,
   "metadata": {},
   "outputs": [],
   "source": [
    "min_ind=20\n",
    "max_ind=101-xs[0]\n",
    "#popt, pcov = curve_fit(func, xs[min_ind:max_ind], ys[min_ind:max_ind], bounds=(0, [1, 1, 2,2]))\n",
    "popt, pcov = curve_fit(func2, xs[min_ind:max_ind], ys[min_ind:max_ind], bounds=(0, [2,2,2,2]))\n",
    "plt.plot(xs,ys)\n",
    "#plt.scatter(xs,ys)\n",
    "print(popt)\n",
    "plt.plot(xs, func2(xs, *popt))\n",
    "#plt.plot(xs, func(xs, *np.asarray([0,0,0.1919,0.1919])))\n",
    "\n",
    "plt.xlabel('Number of Candidates (N)')\n",
    "plt.ylabel('Expected Utility')\n",
    "plt.title('Expected Utility vs Number of Candidates')\n",
    "#plt.legend(['Optimal Exp. Utility for N','Asympt. Optimal Exp. Utility (N -> Inf)'])\n",
    "#plt.legend(['Optimal Exp. Utility for N'])"
   ]
  },
  {
   "cell_type": "code",
   "execution_count": null,
   "metadata": {},
   "outputs": [],
   "source": [
    "ys-func2(xs, *popt)"
   ]
  },
  {
   "cell_type": "code",
   "execution_count": null,
   "metadata": {},
   "outputs": [],
   "source": [
    "min_ind=81-xs[0]\n",
    "max_ind=101-xs[0]\n",
    "popt, pcov = curve_fit(func, xs[min_ind:max_ind], ys[min_ind:max_ind], bounds=(0, [1, 1, 2,2]))\n",
    "plt.plot(xs[0:],ys[0:])\n",
    "#plt.scatter(xs,ys)\n",
    "print(popt)\n",
    "plt.plot(xs[0:], func(xs[0:], *popt))\n",
    "#plt.plot(xs, func(xs, *np.asarray([0,0,0.1919,0.1919])))\n",
    "\n",
    "plt.xlabel('Number of Candidates (N)')\n",
    "plt.ylabel('Expected Utility')\n",
    "plt.title('Expected Utility vs Number of Candidates')\n",
    "plt.legend(['Optimal Exp. Utility for N','Approximated Exp. Utility'])\n",
    "#plt.legend(['Optimal Exp. Utility for N'])"
   ]
  },
  {
   "cell_type": "code",
   "execution_count": null,
   "metadata": {},
   "outputs": [],
   "source": [
    "xs[min_ind:max_ind]"
   ]
  },
  {
   "cell_type": "code",
   "execution_count": null,
   "metadata": {},
   "outputs": [],
   "source": [
    "def take_derivative(x,y):\n",
    "    return x[0:-1],[(y[i+1]-y[i])/(x[i+1]-x[i]) for i in range(len(y)-1)]"
   ]
  },
  {
   "cell_type": "code",
   "execution_count": null,
   "metadata": {},
   "outputs": [],
   "source": [
    "dx,dy=take_derivative(xs,ys)\n",
    "d2x,d2y=take_derivative(dx,dy)\n",
    "logy=[np.log(i) for i in ys]\n",
    "plt.plot(dx,dy)"
   ]
  },
  {
   "cell_type": "code",
   "execution_count": null,
   "metadata": {},
   "outputs": [],
   "source": [
    "d2y"
   ]
  },
  {
   "cell_type": "code",
   "execution_count": null,
   "metadata": {},
   "outputs": [],
   "source": [
    "dy[-1]/0.2+ys[-1]"
   ]
  },
  {
   "cell_type": "code",
   "execution_count": null,
   "metadata": {},
   "outputs": [],
   "source": [
    "[ys[i+1]-ys[i] for i in range(len(ys)-1)]"
   ]
  },
  {
   "cell_type": "code",
   "execution_count": null,
   "metadata": {},
   "outputs": [],
   "source": [
    "local_mins=[[],[]]\n",
    "local_maxs=[[],[]]\n",
    "\n",
    "for i in range(1,len(xs)-1):\n",
    "    if ys[i]<ys[i+1] and ys[i]<ys[i-1]:\n",
    "        local_mins[0].append(xs[i])\n",
    "        local_mins[1].append(ys[i])\n",
    "    if ys[i]>ys[i+1] and ys[i]>ys[i-1]:\n",
    "        local_maxs[0].append(xs[i])\n",
    "        local_maxs[1].append(ys[i])\n",
    "        \n",
    "plt.plot(xs,ys)\n",
    "plt.scatter(xs,ys)\n",
    "        \n",
    "plt.plot(local_mins[0],local_mins[1])\n",
    "plt.scatter(local_mins[0],local_mins[1])\n",
    "plt.plot(local_maxs[0],local_maxs[1])\n",
    "plt.scatter(local_maxs[0],local_maxs[1])"
   ]
  },
  {
   "cell_type": "code",
   "execution_count": null,
   "metadata": {},
   "outputs": [],
   "source": [
    "n=50\n",
    "N=n\n",
    "list_of_Ds=[[[False if np.random.uniform()<1 else True for i in range(j)] for j in range(1,n)]+[[True for i in range(n)]] for d in range(10)]\n",
    "U=cmf.create_payoff_array(N,1,3)\n",
    "print(U)"
   ]
  },
  {
   "cell_type": "code",
   "execution_count": null,
   "metadata": {},
   "outputs": [],
   "source": [
    "vf.plot_decision_graph(list_of_Ds[0])"
   ]
  },
  {
   "cell_type": "code",
   "execution_count": null,
   "metadata": {},
   "outputs": [],
   "source": [
    "D=list_of_Ds[0]\n",
    "CD=[generate_candidates_with_fixed_point(N,i+1,j+1) for i in range(n-2,-1,-1) for j in range(i+1) for k in range(10)]\n",
    "for b in range(10):\n",
    "    for i in range(n-1,-1,-1):\n",
    "        for j in range(i):\n",
    "            p_0=sf.evaluate_the_hiring_strategy(n,U,D,CD)\n",
    "\n",
    "            #try to negate one D[i][rel_ranks[i]-1]\n",
    "            D[i][j]=not D[i][j]\n",
    "\n",
    "            p_1=sf.evaluate_the_hiring_strategy(n,U,D,CD)\n",
    "            print(p_0,p_1)\n",
    "            if p_0>p_1:\n",
    "                D[i][j]=not D[i][j] "
   ]
  },
  {
   "cell_type": "code",
   "execution_count": null,
   "metadata": {},
   "outputs": [],
   "source": [
    "CD"
   ]
  },
  {
   "cell_type": "code",
   "execution_count": null,
   "metadata": {},
   "outputs": [],
   "source": [
    "[(i,j,k)  for i in range(n-2,-1,-1) for j in range(i) for k in range(2)]"
   ]
  },
  {
   "cell_type": "code",
   "execution_count": null,
   "metadata": {},
   "outputs": [],
   "source": [
    "CD=[dgf.generate_candidates_v2(N) for i in range(1000)]\n",
    "sf.evaluate_the_hiring_strategy(n,U,D,CD)"
   ]
  },
  {
   "cell_type": "code",
   "execution_count": null,
   "metadata": {},
   "outputs": [],
   "source": [
    "CD"
   ]
  },
  {
   "cell_type": "code",
   "execution_count": null,
   "metadata": {},
   "outputs": [],
   "source": [
    "ranks"
   ]
  },
  {
   "cell_type": "code",
   "execution_count": null,
   "metadata": {},
   "outputs": [],
   "source": [
    "D"
   ]
  },
  {
   "cell_type": "code",
   "execution_count": null,
   "metadata": {},
   "outputs": [],
   "source": [
    "def generate_candidates_with_fixed_point(n,r,s):\n",
    "    '''\n",
    "    Creates a list of candidates with their rank, and also outputs the relative ranks\n",
    "    \n",
    "    Unlike the first version it randomly generates the relative ranks, then calculate the actual ranks. \n",
    "    That's why it is much faster for n>100\n",
    "    \n",
    "    Parameters:\n",
    "    n: number of candidates\n",
    "    r: rth candidate\n",
    "    s: relative rank of rth candidate\n",
    "    \n",
    "    Returns:\n",
    "    rel_ranks: relative ranks of the candidates\n",
    "    b: ranks of the candidates\n",
    "    '''\n",
    "    a=[i for i in range(n)]\n",
    "    rel_ranks=[np.random.randint(0,j+1) for j in range(n)]\n",
    "    rel_ranks[r-1]=s-1\n",
    "    b=[0 for i in range(n)]\n",
    "    for i in range(n-1,-1,-1):\n",
    "        b[i]=a[rel_ranks[i]]+1\n",
    "        del a[rel_ranks[i]]\n",
    "    return [r+1 for r in rel_ranks],b"
   ]
  },
  {
   "cell_type": "code",
   "execution_count": null,
   "metadata": {},
   "outputs": [],
   "source": [
    "generate_candidates_with_fixed_point(10,9,1)"
   ]
  },
  {
   "cell_type": "code",
   "execution_count": null,
   "metadata": {},
   "outputs": [],
   "source": [
    "df=pd.read_csv('data/apple_stock_data.csv',parse_dates=[0,1])\n",
    "df"
   ]
  },
  {
   "cell_type": "code",
   "execution_count": null,
   "metadata": {},
   "outputs": [],
   "source": [
    "df['val']=df.iloc[:,1].apply(lambda x:float(x.split('$')[1]))\n",
    "df"
   ]
  },
  {
   "cell_type": "code",
   "execution_count": null,
   "metadata": {},
   "outputs": [],
   "source": []
  },
  {
   "cell_type": "code",
   "execution_count": null,
   "metadata": {},
   "outputs": [],
   "source": [
    "file_name='TEAM'\n",
    "n,m,interv=7,600,1\n",
    "last_data_date='2019-01-01'\n",
    "CDs=dgf.generate_multi_data_from_the_stock_data(n,m,interv,last_data_date,file_name)\n",
    "\n",
    "file_name='TEAM'\n",
    "n,m,interv=7,300,1\n",
    "last_data_date='2020-09-15'\n",
    "CDs_Test=dgf.generate_multi_data_from_the_stock_data(n,m,interv,last_data_date,file_name)\n"
   ]
  },
  {
   "cell_type": "code",
   "execution_count": null,
   "metadata": {},
   "outputs": [],
   "source": [
    "N=n\n",
    "U=cmf.create_payoff_array(N,0,1)\n",
    "#U=[1-u for u in U]\n",
    "D_r,E,dyn_hiring_rule=cmf.dynamic_solution_general_form(N,U)"
   ]
  },
  {
   "cell_type": "code",
   "execution_count": null,
   "metadata": {},
   "outputs": [],
   "source": [
    "vf.plot_decision_graph(D_r)"
   ]
  },
  {
   "cell_type": "code",
   "execution_count": null,
   "metadata": {},
   "outputs": [],
   "source": [
    "#conver CDs:\n",
    "CD=[(cd[0],cd[1]) for cd in CDs]\n",
    "\n",
    "\n",
    "\n",
    "D=[[False if np.random.uniform()<1 else True for i in range(j)] for j in range(1,n)]+[[True for i in range(n)]]\n",
    "for b in range(10):\n",
    "    for i in range(n-1,-1,-1):\n",
    "        for j in range(i):\n",
    "            p_0=sf.evaluate_the_hiring_strategy(n,U,D,CD)\n",
    "\n",
    "            #try to negate one D[i][rel_ranks[i]-1]\n",
    "            D[i][j]=not D[i][j]\n",
    "\n",
    "            p_1=sf.evaluate_the_hiring_strategy(n,U,D,CD)\n",
    "            print(p_0,p_1)\n",
    "            if p_0>=p_1:\n",
    "                D[i][j]=not D[i][j] "
   ]
  },
  {
   "cell_type": "code",
   "execution_count": null,
   "metadata": {},
   "outputs": [],
   "source": [
    "vf.plot_decision_graph(D)"
   ]
  },
  {
   "cell_type": "code",
   "execution_count": null,
   "metadata": {},
   "outputs": [],
   "source": [
    "[sf.evaluate_the_hiring_strategy_on_stocks(n,U,Dx,CDs_Test) for Dx in [[[True]],D_r,D]]"
   ]
  },
  {
   "cell_type": "code",
   "execution_count": null,
   "metadata": {},
   "outputs": [],
   "source": []
  },
  {
   "cell_type": "code",
   "execution_count": null,
   "metadata": {},
   "outputs": [],
   "source": []
  },
  {
   "cell_type": "code",
   "execution_count": null,
   "metadata": {},
   "outputs": [],
   "source": []
  },
  {
   "cell_type": "code",
   "execution_count": null,
   "metadata": {},
   "outputs": [],
   "source": []
  },
  {
   "cell_type": "code",
   "execution_count": null,
   "metadata": {},
   "outputs": [],
   "source": []
  },
  {
   "cell_type": "code",
   "execution_count": null,
   "metadata": {},
   "outputs": [],
   "source": [
    "file_name='apple_stock_data'\n",
    "df=pd.read_csv('data/'+file_name+'.csv',parse_dates=[0,1])\n",
    "generate_data_from_the_stock_data(10,'2020-02-17',df)"
   ]
  },
  {
   "cell_type": "code",
   "execution_count": null,
   "metadata": {},
   "outputs": [],
   "source": []
  },
  {
   "cell_type": "code",
   "execution_count": null,
   "metadata": {},
   "outputs": [],
   "source": [
    "last_data_date='2020-02-17'\n",
    "interv=10\n",
    "dt.strftime(dt.strptime(last_data_date,'%Y-%m-%d')-timedelta(days=interv),'%Y-%m-%d')"
   ]
  },
  {
   "cell_type": "code",
   "execution_count": null,
   "metadata": {},
   "outputs": [],
   "source": [
    "file_name='apple_stock_data'\n",
    "n,m,interv=10,12,10\n",
    "last_data_date='2020-05-01'\n",
    "CDs=dgf.generate_multi_data_from_the_stock_data(n,m,interv,last_data_date,file_name)"
   ]
  },
  {
   "cell_type": "code",
   "execution_count": null,
   "metadata": {},
   "outputs": [],
   "source": [
    "U"
   ]
  },
  {
   "cell_type": "code",
   "execution_count": null,
   "metadata": {},
   "outputs": [],
   "source": [
    "\n",
    "req = requests.get(src_link)\n",
    "url_content = req.content\n",
    "csv_file = open('data\\\\'+company_code+'.csv', 'wb')\n",
    "\n",
    "csv_file.write(url_content)\n",
    "csv_file.close()"
   ]
  },
  {
   "cell_type": "code",
   "execution_count": null,
   "metadata": {},
   "outputs": [],
   "source": [
    "import datetime;\n",
    "ts = datetime.datetime.now().timestamp()\n",
    "p2,p1=int(ts),int(ts-2*365*24*60*60)\n",
    "print(p1,p2)"
   ]
  },
  {
   "cell_type": "code",
   "execution_count": null,
   "metadata": {},
   "outputs": [],
   "source": [
    "src_link='https://query1.finance.yahoo.com/v7/finance/download/{}?period1={}&period2={}&interval=1d&events=history'.format(company_code,p1,p2)\n",
    "src_link"
   ]
  },
  {
   "cell_type": "code",
   "execution_count": null,
   "metadata": {},
   "outputs": [],
   "source": [
    "import datetime\n",
    "import requests\n",
    "def create_the_source_link(company_code,years):\n",
    "    ts = datetime.datetime.now().timestamp()\n",
    "    p2,p1=int(ts),int(ts-years*365*24*60*60)\n",
    "    return 'https://query1.finance.yahoo.com/v7/finance/download/{}?period1={}&period2={}&interval=1d&events=history'.format(company_code,p1,p2)\n",
    "\n",
    "def download_data(company_code,years=3):\n",
    "    src_link=create_the_source_link(company_code,years)\n",
    "    req = requests.get(src_link)\n",
    "    url_content = req.content\n",
    "    csv_file = open('data\\\\'+company_code+'.csv', 'wb')\n",
    "\n",
    "    csv_file.write(url_content)\n",
    "    csv_file.close()"
   ]
  },
  {
   "cell_type": "code",
   "execution_count": null,
   "metadata": {},
   "outputs": [],
   "source": [
    "download_data('AB')"
   ]
  },
  {
   "cell_type": "code",
   "execution_count": null,
   "metadata": {},
   "outputs": [],
   "source": [
    "#for company_code in ['TGODF','TSLA','BA','FSLY','MAIN','TEAM','WMT','NOW','OKTA','ORCL','RLFTF','SRNE']:\n",
    "for company_code in ['TWLO','TEAM','MN','MNKD']:\n",
    "    download_data(company_code)\n",
    "    for k in [10,20,40,80,160]: \n",
    "        try:\n",
    "            df=pd.read_csv('data\\\\'+company_code+'.csv')\n",
    "            L=df.shape[0]\n",
    "            for i in range(L):\n",
    "                df.loc[i,'mean']=df.iloc[max(0,i-k):i,1].mean()\n",
    "                try:\n",
    "                    df.loc[i,'in_k_days']=df.loc[k+i,'Open']/df.loc[i,'Open']-1\n",
    "                except:\n",
    "                    pass\n",
    "            df['perc2mean']=df['Open']/df['mean']-1\n",
    "            df_x=df[df.in_k_days.notnull()&df.perc2mean.notnull()]\n",
    "            X,y=[[x] for x in df_x.perc2mean],[y for y in df_x.in_k_days]\n",
    "            from sklearn.neighbors import KNeighborsRegressor\n",
    "            neigh = KNeighborsRegressor(n_neighbors=15)\n",
    "            neigh.fit(X, y)\n",
    "\n",
    "            print(company_code,k,neigh.predict([[df.loc[L-1,'perc2mean']]]))\n",
    "        except:\n",
    "            pass"
   ]
  },
  {
   "cell_type": "code",
   "execution_count": null,
   "metadata": {},
   "outputs": [],
   "source": []
  },
  {
   "cell_type": "code",
   "execution_count": null,
   "metadata": {},
   "outputs": [],
   "source": [
    "df.loc[L-1,'perc2mean']"
   ]
  },
  {
   "cell_type": "code",
   "execution_count": null,
   "metadata": {},
   "outputs": [],
   "source": [
    "X"
   ]
  },
  {
   "cell_type": "code",
   "execution_count": null,
   "metadata": {},
   "outputs": [],
   "source": [
    "plt.scatter(df.perc2mean,df.in_k_days)"
   ]
  },
  {
   "cell_type": "code",
   "execution_count": null,
   "metadata": {},
   "outputs": [],
   "source": [
    "file_name='apple_stock_data'\n",
    "n,m,interv=10,12,10\n",
    "last_data_date='2020-03-05'\n",
    "CDs=dgf.generate_multi_data_from_the_stock_data(n,m,interv,last_data_date,file_name)"
   ]
  },
  {
   "cell_type": "code",
   "execution_count": null,
   "metadata": {},
   "outputs": [],
   "source": [
    "CDs[0]"
   ]
  },
  {
   "cell_type": "code",
   "execution_count": null,
   "metadata": {},
   "outputs": [],
   "source": [
    "## Learning Part\n",
    "\n",
    "N=10\n",
    "k=5\n",
    "U=cmf.create_payoff_array(N,2,k)\n",
    "#print(U)\n",
    "D,E,dyn_hiring_rule=cmf.dynamic_solution_general_form(N,U)\n",
    "\n",
    "print(E[0][0])"
   ]
  },
  {
   "cell_type": "code",
   "execution_count": null,
   "metadata": {},
   "outputs": [],
   "source": [
    "## Create Datasets\n",
    "def create_a_dataset(Ns):\n",
    "    X,y=[],[]\n",
    "    k=3\n",
    "    for N in Ns:\n",
    "        U=cmf.create_payoff_array(N,2,k)\n",
    "        #print(U)\n",
    "        D,E,dyn_hiring_rule=cmf.dynamic_solution_general_form(N,U)\n",
    "        for i in range(N-1):\n",
    "            for j in range(i+1):\n",
    "                #X.append([(i+1)/N,(j+1)/(i+1),j+1,1/N,N-i])\n",
    "                X.append([(i+1)/N,(j+1)/(i+1),j+1,N-i,1/N])\n",
    "                y.append(int(D[i][j]))\n",
    "                #print(i+1,j+1,1/N,int(D[i][j]))\n",
    "    return X,y\n",
    "\n",
    "def build_D_from_y(y):\n",
    "    D=[]\n",
    "    i=0\n",
    "    counter=0\n",
    "    while counter+i<len(y):\n",
    "        print(counter,i)\n",
    "        D.append(y[counter:min(counter+i+1,len(y))])\n",
    "        counter+=i+1\n",
    "        i+=1\n",
    "    D.append([1 for j in range(i+1)])\n",
    "    return D"
   ]
  },
  {
   "cell_type": "code",
   "execution_count": null,
   "metadata": {},
   "outputs": [],
   "source": [
    "X_train, y_train = create_a_dataset(range(5,351,7))\n",
    "X_test, y_test = create_a_dataset([1000])"
   ]
  },
  {
   "cell_type": "code",
   "execution_count": null,
   "metadata": {},
   "outputs": [],
   "source": [
    "from sklearn.neural_network import MLPClassifier\n",
    "\n",
    "from sklearn.ensemble import RandomForestClassifier\n",
    "\n",
    "clf = MLPClassifier(solver='lbfgs', alpha=1e-5,\n",
    "                   hidden_layer_sizes=(50, 50, 2), random_state=1)\n",
    "    \n",
    "clf= RandomForestClassifier(max_depth=20, random_state=0)\n",
    "\n",
    "clf.fit(X_train, y_train)"
   ]
  },
  {
   "cell_type": "code",
   "execution_count": null,
   "metadata": {},
   "outputs": [],
   "source": [
    "y_pred=clf.predict(X_test)"
   ]
  },
  {
   "cell_type": "code",
   "execution_count": null,
   "metadata": {},
   "outputs": [],
   "source": [
    "sum(y_pred),sum(y_test),len(y_test),sum([np.abs(y_pred[i]-y_test[i]) for i in range(len(y_pred))])"
   ]
  },
  {
   "cell_type": "code",
   "execution_count": null,
   "metadata": {},
   "outputs": [],
   "source": [
    "sum([np.abs(y_pred[i]-y_test[i]) for i in range(len(y_pred))])"
   ]
  },
  {
   "cell_type": "code",
   "execution_count": null,
   "metadata": {},
   "outputs": [],
   "source": [
    "vf.plot_decision_graph(build_D_from_y(y_pred))"
   ]
  },
  {
   "cell_type": "code",
   "execution_count": null,
   "metadata": {},
   "outputs": [],
   "source": [
    "vf.plot_decision_graph(build_D_from_y(y_test))"
   ]
  },
  {
   "cell_type": "code",
   "execution_count": null,
   "metadata": {},
   "outputs": [],
   "source": [
    "from scipy.optimize import curve_fit\n",
    "def func(x, a, b, c, e):\n",
    "    return a * np.exp(-b * np.asarray(x)) + c+e/x\n",
    "\n",
    "def func2(x, a,b,c, e):\n",
    "    return c+e/x+a/x/x+b/x/x/x\n",
    "\n",
    "popt, pcov = curve_fit(func, xs, ys, bounds=(0, [5., 5., 0.5,5]))\n",
    "popt"
   ]
  },
  {
   "cell_type": "code",
   "execution_count": null,
   "metadata": {},
   "outputs": [],
   "source": [
    "##Try to extend solution to larger Ns for kth best\n",
    "def intersect_intervals(a,b,epsilon):\n",
    "    x=max(a[0],b[0])\n",
    "    y=min(a[1],b[1])\n",
    "    return (x-epsilon,y+epsilon)\n",
    "\n",
    "def find_threshold_interval(D,i):\n",
    "    '''\n",
    "    D: Decisions\n",
    "    i: relative rank\n",
    "    \n",
    "    Returns:\n",
    "    a,b: accept if the relative rank is i and after a items observed and before b+1 items observed\n",
    "    '''\n",
    "    i-=1\n",
    "    a=i\n",
    "    if_alpha_found=False\n",
    "    for d in D:\n",
    "        #print(not d[i])\n",
    "        if len(d)>i:\n",
    "            if not if_alpha_found:\n",
    "                if not d[i]:\n",
    "                    a+=1\n",
    "                else:\n",
    "                    if_alpha_found=True\n",
    "                    b=a\n",
    "            else:\n",
    "                if d[i]:\n",
    "                    b+=1\n",
    "    return a,b\n",
    "\n",
    "k=10\n",
    "alphas=[(0,1) for i in range(k)]\n",
    "betas=[(0,1) for i in range(k)]\n",
    "list_a,list_b=[[] for i in range(k)],[[] for i in range(k)]\n",
    "x=[]\n",
    "Nx=100\n",
    "for N in range(4*k,101):\n",
    "#for N in [10,11,20,21,30,40,50]:\n",
    "    U=cmf.create_payoff_array(N,3,k)\n",
    "    #print(U)\n",
    "    D,E,dyn_hiring_rule=cmf.dynamic_solution_general_form(N,U)\n",
    "    x.append([1/N])\n",
    "    x.append([1/N])\n",
    "    for i in range(k):\n",
    "        a,b=find_threshold_interval(D,i+1)\n",
    "        #print((a/N,(a+1)/N),(b/N,(b+1)/N))\n",
    "        list_a[i].append((a-1)/N)\n",
    "        list_a[i].append((a+1)/N)\n",
    "        list_b[i].append((b-1)/N)\n",
    "        list_b[i].append((b+1)/N)\n",
    "\n",
    "\n",
    "        alphas[i] = intersect_intervals(alphas[i],((a-1)/N,(a+1)/N),0) \n",
    "        betas[i] =  intersect_intervals(betas[i],((b-1)/N,(b+1)/N),0) \n"
   ]
  },
  {
   "cell_type": "code",
   "execution_count": null,
   "metadata": {},
   "outputs": [],
   "source": [
    "1/np.exp(1)"
   ]
  },
  {
   "cell_type": "code",
   "execution_count": null,
   "metadata": {},
   "outputs": [],
   "source": [
    "from sklearn.ensemble import GradientBoostingRegressor\n",
    "clf=GradientBoostingRegressor(loss=\"ls\")\n",
    "\n",
    "from sklearn.linear_model import LinearRegression\n",
    "clf = LinearRegression(fit_intercept=True)\n",
    "y=list_a[0]\n",
    "\n",
    "clf.fit(x,y)"
   ]
  },
  {
   "cell_type": "code",
   "execution_count": null,
   "metadata": {},
   "outputs": [],
   "source": [
    "from sklearn.ensemble import GradientBoostingRegressor\n",
    "clf=GradientBoostingRegressor(loss=\"ls\")\n",
    "\n",
    "from sklearn.linear_model import LinearRegression\n",
    "clf = LinearRegression(fit_intercept=True)\n",
    "y=list_a[6]\n",
    "\n",
    "from sklearn.svm import SVC\n",
    "clf = SVC(kernel='linear')\n",
    "\n",
    "from sklearn.linear_model import LogisticRegression\n",
    "clf = LogisticRegression(random_state=0)\n",
    "\n",
    "clf.fit([[x[i][0],y[i]] for i in range(len(x))],[i%2 for i in range(len(x))])"
   ]
  },
  {
   "cell_type": "code",
   "execution_count": null,
   "metadata": {},
   "outputs": [],
   "source": [
    "x"
   ]
  },
  {
   "cell_type": "code",
   "execution_count": null,
   "metadata": {},
   "outputs": [],
   "source": [
    "[[x[i][0],y[i]] for i in range(len(x))],[i%2 for i in range(len(x))]"
   ]
  },
  {
   "cell_type": "code",
   "execution_count": null,
   "metadata": {},
   "outputs": [],
   "source": [
    "y_pred=clf.predict([[x[i][0],y[i]] for i in range(len(x))])\n",
    "y_act=[i%2 for i in range(len(x))]\n",
    "sum([np.abs(y_pred[i]-y_act[i]) for i in range(len(x))])"
   ]
  },
  {
   "cell_type": "code",
   "execution_count": null,
   "metadata": {},
   "outputs": [],
   "source": [
    "w = clf.coef_[0]\n",
    "a = -w[0] / w[1]\n",
    "a,(clf.intercept_[0]) / w[1]"
   ]
  },
  {
   "cell_type": "code",
   "execution_count": null,
   "metadata": {},
   "outputs": [],
   "source": [
    "clf.coef_"
   ]
  },
  {
   "cell_type": "code",
   "execution_count": null,
   "metadata": {},
   "outputs": [],
   "source": [
    "# get the separating hyperplane\n",
    "w = clf.coef_[0]\n",
    "a = -w[0] / w[1]\n",
    "xx = np.linspace(0.004, 0.01)\n",
    "yy = a * xx - (clf.intercept_[0]) / w[1]\n",
    "\n",
    "\n",
    "\n",
    "# plot the line, the points, and the nearest vectors to the plane\n",
    "plt.plot(xx, yy, 'k-')\n",
    "\n",
    "plt.scatter(x,y,color=['blue' if i%2==0 else 'orange' for i in range(len(x))])"
   ]
  },
  {
   "cell_type": "code",
   "execution_count": null,
   "metadata": {},
   "outputs": [],
   "source": [
    "['blue' if i%2==0 else 'orange' for i in range(len(x))]"
   ]
  },
  {
   "cell_type": "code",
   "execution_count": null,
   "metadata": {},
   "outputs": [],
   "source": [
    "import numpy as np\n",
    "import matplotlib.pyplot as plt\n",
    "from sklearn import svm\n",
    "\n",
    "# we create 40 separable points\n",
    "np.random.seed(0)\n",
    "X = np.r_[np.random.randn(20, 2) - [1, 1], np.random.randn(20, 2) + [2, 2]]\n",
    "Y = [0] * 20 + [1] * 20\n",
    "\n",
    "# fit the model\n",
    "clf = svm.SVC(kernel='linear')\n",
    "clf.fit(X, Y)\n",
    "\n",
    "# get the separating hyperplane\n",
    "w = clf.coef_[0]\n",
    "a = -w[0] / w[1]\n",
    "xx = np.linspace(-5, 5)\n",
    "yy = a * xx - (clf.intercept_[0]) / w[1]\n",
    "\n",
    "# plot the parallels to the separating hyperplane that pass through the\n",
    "# support vectors\n",
    "b = clf.support_vectors_[0]\n",
    "yy_down = a * xx + (b[1] - a * b[0])\n",
    "b = clf.support_vectors_[-1]\n",
    "yy_up = a * xx + (b[1] - a * b[0])\n",
    "\n",
    "# plot the line, the points, and the nearest vectors to the plane\n",
    "plt.plot(xx, yy, 'k-')\n",
    "plt.plot(xx, yy_down, 'k--')\n",
    "plt.plot(xx, yy_up, 'k--')\n",
    "\n",
    "plt.scatter(clf.support_vectors_[:, 0], clf.support_vectors_[:, 1],\n",
    "            s=80, facecolors='none')\n",
    "plt.scatter(X[:, 0], X[:, 1], c=Y, cmap=plt.cm.Paired)\n",
    "\n",
    "plt.axis('tight')\n",
    "plt.show()"
   ]
  },
  {
   "cell_type": "code",
   "execution_count": null,
   "metadata": {},
   "outputs": [],
   "source": [
    "import numpy as np\n",
    "import matplotlib.pyplot as plt\n",
    "from sklearn import svm\n",
    "\n",
    "# we create 40 separable points\n",
    "np.random.seed(0)\n",
    "X = np.array([[1,0],[1,1],[2,1],[2,2]])\n",
    "Y = [0,1,0,1]\n",
    "\n",
    "# fit the model\n",
    "clf = svm.SVC(kernel='linear')\n",
    "clf.fit(X, Y)\n",
    "\n",
    "# get the separating hyperplane\n",
    "w = clf.coef_[0]\n",
    "a = -w[0] / w[1]\n",
    "xx = np.linspace(-5, 5)\n",
    "yy = a * xx - (clf.intercept_[0]) / w[1]\n",
    "\n",
    "# plot the parallels to the separating hyperplane that pass through the\n",
    "# support vectors\n",
    "b = clf.support_vectors_[0]\n",
    "yy_down = a * xx + (b[1] - a * b[0])\n",
    "b = clf.support_vectors_[-1]\n",
    "yy_up = a * xx + (b[1] - a * b[0])\n",
    "\n",
    "# plot the line, the points, and the nearest vectors to the plane\n",
    "plt.plot(xx, yy, 'k-')\n",
    "plt.plot(xx, yy_down, 'k--')\n",
    "plt.plot(xx, yy_up, 'k--')\n",
    "\n",
    "plt.scatter(clf.support_vectors_[:, 0], clf.support_vectors_[:, 1],\n",
    "            s=80, facecolors='none')\n",
    "plt.scatter(X[:, 0], X[:, 1], c=Y, cmap=plt.cm.Paired)\n",
    "\n",
    "plt.axis('tight')\n",
    "plt.show()"
   ]
  },
  {
   "cell_type": "code",
   "execution_count": null,
   "metadata": {},
   "outputs": [],
   "source": [
    "X=[[1,0],[1,1],[2,1],[2,2]]\n",
    "Y=[1,0,1,0]"
   ]
  },
  {
   "cell_type": "code",
   "execution_count": null,
   "metadata": {},
   "outputs": [],
   "source": [
    "b=clf.predict(np.array([0]).reshape(1, -1))[0]\n",
    "print(b)\n",
    "a=clf.predict(np.array([1]).reshape(1, -1))[0]-b\n",
    "a,b"
   ]
  },
  {
   "cell_type": "code",
   "execution_count": null,
   "metadata": {},
   "outputs": [],
   "source": [
    "e=np.exp(1)\n",
    "2/((2*e**0.5)+(4*e-6*(e)**0.5)**0.5)"
   ]
  },
  {
   "cell_type": "code",
   "execution_count": null,
   "metadata": {},
   "outputs": [],
   "source": [
    "1/(e**0.5)"
   ]
  },
  {
   "cell_type": "code",
   "execution_count": null,
   "metadata": {},
   "outputs": [],
   "source": [
    "import seaborn as sns\n",
    "\n",
    "L=int(len(x)/2)\n",
    "x_0=[1/x[2*i][0] for i in range(L)]\n",
    "y_l=[y[2*i] for i in range(int(len(x)/2))]\n",
    "y_u=[y[2*i+1] for i in range(int(len(x)/2))]\n",
    "y_p=clf.predict(np.array([x[2*i][0] for i in range(L)]).reshape(-1, 1))\n",
    "#y_p=clf.predict(np.array([[x[2*i][0],x[2*i][1]] for i in range(L)]))\n",
    "sns.scatterplot(x_0,y_l)\n",
    "sns.scatterplot(x_0,y_u)\n",
    "\n",
    "for i in range(len(x_0)):\n",
    "    #plt.axvline(x_0[i], y_l[i],y_u[i])\n",
    "    plt.plot([x_0[i], x_0[i]], [y_l[i],y_u[i]],color='blue',alpha=0.1,linewidth=5)\n",
    "sns.lineplot(x_0,y_p,color='black')"
   ]
  },
  {
   "cell_type": "code",
   "execution_count": null,
   "metadata": {},
   "outputs": [],
   "source": [
    "\n",
    "min([y_l[i]-y_u[i] for i in range(len(y_l))])"
   ]
  },
  {
   "cell_type": "code",
   "execution_count": null,
   "metadata": {},
   "outputs": [],
   "source": [
    "x_0"
   ]
  },
  {
   "cell_type": "code",
   "execution_count": null,
   "metadata": {},
   "outputs": [],
   "source": [
    "y_l[-2],y_u[-2]"
   ]
  },
  {
   "cell_type": "code",
   "execution_count": null,
   "metadata": {},
   "outputs": [],
   "source": [
    "y_u"
   ]
  },
  {
   "cell_type": "code",
   "execution_count": null,
   "metadata": {},
   "outputs": [],
   "source": [
    "def line_func(a,b,c,x_0):\n",
    "    return [a/x**c+b for x in x_0]\n",
    "\n",
    "def my_error(y_p,y_l,y_u):\n",
    "    L=len(y_p)\n",
    "    err=0\n",
    "    for i in range(L):\n",
    "        err+=(max(y_l[i]-y_p[i],0)+max(y_p[i]-y_u[i],0))/(y_u[i]-y_l[i])\n",
    "    return err"
   ]
  },
  {
   "cell_type": "code",
   "execution_count": null,
   "metadata": {},
   "outputs": [],
   "source": [
    "my_error(line_func(a,b,1,x_0),y_l,y_u)"
   ]
  },
  {
   "cell_type": "code",
   "execution_count": null,
   "metadata": {},
   "outputs": [],
   "source": [
    "[[i,j,k] for i in range(-1,2) for j in range(-1,2) for k in range(1,2)]"
   ]
  },
  {
   "cell_type": "code",
   "execution_count": null,
   "metadata": {},
   "outputs": [],
   "source": [
    "for k_ in range(2):\n",
    "    y=list_a[k_]\n",
    "    x_0=[1/x[2*i][0] for i in range(int(len(x)/2))]\n",
    "    y_l=[y[2*i] for i in range(int(len(x)/2))]\n",
    "    y_u=[y[2*i+1] for i in range(int(len(x)/2))]\n",
    "    #genetic algorithm 1\n",
    "    #params=[[i,j,k] for i in range(0,2) for j in range(0,2) for k in range(0,3) for q in range(4)]\n",
    "    params=[]\n",
    "    c=1\n",
    "    for i in [1,2,3,4,5,100,101,102]:\n",
    "        j=i+np.random.randint(50)+1\n",
    "        i=i%len(y_l)\n",
    "        j=j%len(y_l)\n",
    "        y1,y2=(y_l[i]+y_u[i])/2,(y_l[j]+y_u[j])/2\n",
    "        x1,x2=1/x_0[i],1/x_0[j]\n",
    "        a=(y2-y1)/(x2-x1)\n",
    "        b=y1-a*x1\n",
    "        params.append([a,b,np.random.uniform(0,2)])\n",
    "    P=len(params)\n",
    "    l=len(params[0])\n",
    "\n",
    "    for i in range(100):\n",
    "        p1,p2=np.random.randint(P),np.random.randint(P-1)\n",
    "        p2=(p1+p2+1)%P\n",
    "\n",
    "        e1=my_error(line_func(*params[p1],x_0),y_l,y_u)\n",
    "        e2=my_error(line_func(*params[p2],x_0),y_l,y_u)\n",
    "\n",
    "        u=np.random.uniform(-1,2)\n",
    "        #print(p1,p2,u)\n",
    "\n",
    "        new_param=[params[p1][i]*u+params[p2][i]*(1-u) for i in range(l)]\n",
    "        e_new=my_error(line_func(*new_param,x_0),y_l,y_u)\n",
    "        #print(i,e1,e2,e_new)\n",
    "\n",
    "        if e_new<e1 and e1<e2:\n",
    "            params[p2]=new_param\n",
    "        elif e_new<e2 and e2<e1:\n",
    "            params[p1]=new_param\n",
    "\n",
    "        if e_new==0:\n",
    "            print(i)\n",
    "            break\n",
    "    errors=[my_error(line_func(*p,x_0),y_l,y_u) for p in params]\n",
    "    min_index=errors.index(min(errors))\n",
    "    print(k,k_+1,params[min_index],errors[min_index])"
   ]
  },
  {
   "cell_type": "code",
   "execution_count": null,
   "metadata": {},
   "outputs": [],
   "source": [
    "for k_ in range(7,8):\n",
    "    y=list_a[k_]\n",
    "    x_0=[1/x[2*i][0] for i in range(L)]\n",
    "    y_l=[y[2*i] for i in range(int(len(x)/2))]\n",
    "    y_u=[y[2*i+1] for i in range(int(len(x)/2))]\n",
    "    #genetic algorithm 2\n",
    "    params=[]\n",
    "    c=1\n",
    "    for i in [1,2,3]:\n",
    "        j=i+np.random.randint(50)+1\n",
    "        i=i%len(y_l)\n",
    "        j=j%len(y_l)\n",
    "        y1,y2=(y_l[i]+y_u[i])/2,(y_l[j]+y_u[j])/2\n",
    "        x1,x2=1/x_0[i],1/x_0[j]\n",
    "        a=(y2-y1)/(x2-x1)\n",
    "        b=y1-a*x1\n",
    "        params.append([a,b,np.random.uniform(0,2)])\n",
    "    errors=[my_error(line_func(*p,x_0),y_l,y_u) for p in params]\n",
    "    P=len(params)\n",
    "    l=len(params[0])\n",
    "\n",
    "    for i in range(50):\n",
    "        p1,p2=np.random.randint(P),np.random.randint(P-1)\n",
    "        p2=(p1+p2+1)%P\n",
    "\n",
    "        e1=my_error(line_func(*params[p1],x_0),y_l,y_u)\n",
    "        e2=my_error(line_func(*params[p2],x_0),y_l,y_u)\n",
    "\n",
    "        #u=np.random.uniform(-1,2)\n",
    "        #print(p1,p2,u)\n",
    "        min_e,min_param=e1,params[p1]\n",
    "        for u in [i/400 for i in range(-400,601)]:\n",
    "            new_param=[params[p1][i]*u+params[p2][i]*(1-u) for i in range(l)]\n",
    "            e_new=my_error(line_func(*new_param,x_0),y_l,y_u)\n",
    "            if e_new<min_e:\n",
    "                min_e,min_param=e_new,new_param\n",
    "        #print(i,e1,e2,e_new)\n",
    "        e_new,new_param=min_e,min_param\n",
    "        if e_new<e1 and e1<e2:\n",
    "            params[p2]=new_param\n",
    "        elif e_new<e2 and e2<e1:\n",
    "            params[p1]=new_param\n",
    "\n",
    "        if e_new==0:\n",
    "            print(i)\n",
    "            break\n",
    "    errors=[my_error(line_func(*p,x_0),y_l,y_u) for p in params]\n",
    "    min_index=errors.index(min(errors))\n",
    "    print(k,k_+1,params[min_index],errors[min_index])"
   ]
  },
  {
   "cell_type": "code",
   "execution_count": null,
   "metadata": {},
   "outputs": [],
   "source": [
    "params"
   ]
  },
  {
   "cell_type": "code",
   "execution_count": null,
   "metadata": {},
   "outputs": [],
   "source": [
    "errors=[my_error(line_func(*p,x_0),y_l,y_u) for p in params]\n",
    "min_index=errors.index(min(errors))\n",
    "params[min_index],errors[min_index]"
   ]
  },
  {
   "cell_type": "code",
   "execution_count": null,
   "metadata": {},
   "outputs": [],
   "source": [
    "1/e"
   ]
  },
  {
   "cell_type": "code",
   "execution_count": null,
   "metadata": {},
   "outputs": [],
   "source": [
    "for p in range(P):\n",
    "    print(p,my_error(line_func(*params[p],x_0),y_l,y_u))\n",
    "print('Opt',my_error(line_func(*[0,1/e,1],x_0),y_l,y_u))"
   ]
  },
  {
   "cell_type": "code",
   "execution_count": null,
   "metadata": {},
   "outputs": [],
   "source": [
    "import seaborn as sns\n",
    "L=int(len(x)/2)\n",
    "x_0=[1/x[2*i][0] for i in range(L)]\n",
    "y_l=[y[2*i] for i in range(int(len(x)/2))]\n",
    "y_u=[y[2*i+1] for i in range(int(len(x)/2))]\n",
    "y_p=line_func(*params[min_index],x_0)\n",
    "#y_p=clf.predict(np.array([[x[2*i][0],x[2*i][1]] for i in range(L)]))\n",
    "sns.scatterplot(x_0,y_l)\n",
    "sns.scatterplot(x_0,y_u)\n",
    "plt.legend(['lower bound','upper bound'])\n",
    "plt.xlabel('n')\n",
    "plt.ylabel('\\u03B1'+'(n,1)')\n",
    "\n",
    "for i in range(len(x_0)):\n",
    "    #plt.axvline(x_0[i], y_l[i],y_u[i])\n",
    "    plt.plot([x_0[i], x_0[i]], [y_l[i],y_u[i]],color='green',alpha=0.1,linewidth=5)\n",
    "\n",
    "sns.lineplot(x_0,y_p,color='black')\n",
    "sns.lineplot(x_0,[0.4366 for x in x_0],color='red')"
   ]
  },
  {
   "cell_type": "code",
   "execution_count": null,
   "metadata": {},
   "outputs": [],
   "source": [
    "y_l[-1],y_u[-1],y_p[-1],1/e"
   ]
  },
  {
   "cell_type": "code",
   "execution_count": null,
   "metadata": {},
   "outputs": [],
   "source": [
    "params[13][1]-1/e"
   ]
  },
  {
   "cell_type": "code",
   "execution_count": null,
   "metadata": {},
   "outputs": [],
   "source": [
    "(b-1/e)/(params[13][1]-1/e)"
   ]
  },
  {
   "cell_type": "code",
   "execution_count": null,
   "metadata": {},
   "outputs": [],
   "source": []
  }
 ],
 "metadata": {
  "kernelspec": {
   "display_name": "Python 3",
   "language": "python",
   "name": "python3"
  },
  "language_info": {
   "codemirror_mode": {
    "name": "ipython",
    "version": 3
   },
   "file_extension": ".py",
   "mimetype": "text/x-python",
   "name": "python",
   "nbconvert_exporter": "python",
   "pygments_lexer": "ipython3",
   "version": "3.8.3"
  }
 },
 "nbformat": 4,
 "nbformat_minor": 2
}
