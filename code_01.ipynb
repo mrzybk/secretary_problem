{
 "cells": [
  {
   "cell_type": "code",
   "execution_count": 1,
   "metadata": {
    "collapsed": false
   },
   "outputs": [],
   "source": [
    "import data_generation_functions as dgf\n",
    "import learning_algorithms_functions as laf\n",
    "import classical_methods_functions as cmf\n",
    "import simulation_functions as sf\n",
    "import visualization_functions as vf\n",
    "import time\n",
    "\n",
    "import numpy as np\n",
    "import pandas as pd\n",
    "import matplotlib.pyplot as plt\n",
    "%matplotlib inline\n",
    "\n",
    "\n",
    "import pickle #it is used for importing/exporting variables\n",
    "def save_obj(obj, name ):\n",
    "    #Saves the existing variable in the workspace\n",
    "    with open(name + '.pkl', 'wb') as f:\n",
    "        pickle.dump(obj, f, pickle.HIGHEST_PROTOCOL)\n",
    "\n",
    "def load_obj(name ):\n",
    "    #Loads a variable (already saved) from folder 'obj'\n",
    "    with open(name + '.pkl', 'rb') as f:\n",
    "        return pickle.load(f)\n",
    "\n",
    "\n",
    "exp_utility=load_obj('exp_utility')\n"
   ]
  },
  {
   "cell_type": "code",
   "execution_count": 17,
   "metadata": {
    "collapsed": false
   },
   "outputs": [
    {
     "ename": "MemoryError",
     "evalue": "",
     "output_type": "error",
     "traceback": [
      "\u001b[0;31m---------------------------------------------------------------------------\u001b[0m",
      "\u001b[0;31mMemoryError\u001b[0m                               Traceback (most recent call last)",
      "\u001b[0;32m<ipython-input-17-cd0d8479288e>\u001b[0m in \u001b[0;36m<module>\u001b[0;34m()\u001b[0m\n\u001b[1;32m      2\u001b[0m \u001b[0mU\u001b[0m\u001b[1;33m=\u001b[0m\u001b[0mcmf\u001b[0m\u001b[1;33m.\u001b[0m\u001b[0mcreate_payoff_array\u001b[0m\u001b[1;33m(\u001b[0m\u001b[0mN\u001b[0m\u001b[1;33m,\u001b[0m\u001b[1;36m9\u001b[0m\u001b[1;33m,\u001b[0m\u001b[1;36m1\u001b[0m\u001b[1;33m)\u001b[0m\u001b[1;33m\u001b[0m\u001b[0m\n\u001b[1;32m      3\u001b[0m \u001b[1;31m#print(U)\u001b[0m\u001b[1;33m\u001b[0m\u001b[1;33m\u001b[0m\u001b[0m\n\u001b[0;32m----> 4\u001b[0;31m \u001b[0mD\u001b[0m\u001b[1;33m,\u001b[0m\u001b[0mE\u001b[0m\u001b[1;33m,\u001b[0m\u001b[0mdyn_hiring_rule\u001b[0m\u001b[1;33m=\u001b[0m\u001b[0mcmf\u001b[0m\u001b[1;33m.\u001b[0m\u001b[0mdynamic_solution_general_form\u001b[0m\u001b[1;33m(\u001b[0m\u001b[0mN\u001b[0m\u001b[1;33m,\u001b[0m\u001b[0mU\u001b[0m\u001b[1;33m)\u001b[0m\u001b[1;33m\u001b[0m\u001b[0m\n\u001b[0m\u001b[1;32m      5\u001b[0m \u001b[0mprint\u001b[0m\u001b[1;33m(\u001b[0m\u001b[0mE\u001b[0m\u001b[1;33m[\u001b[0m\u001b[1;36m0\u001b[0m\u001b[1;33m]\u001b[0m\u001b[1;33m[\u001b[0m\u001b[1;36m0\u001b[0m\u001b[1;33m]\u001b[0m\u001b[1;33m)\u001b[0m\u001b[1;33m\u001b[0m\u001b[0m\n\u001b[1;32m      6\u001b[0m \u001b[1;31m#vf.plot_decision_graph(D,if_latex=True)\u001b[0m\u001b[1;33m\u001b[0m\u001b[1;33m\u001b[0m\u001b[0m\n",
      "\u001b[0;32mC:\\Users\\lackent\\Documents\\GitHub\\secretary_problem\\classical_methods_functions.py\u001b[0m in \u001b[0;36mdynamic_solution_general_form\u001b[0;34m(n, U)\u001b[0m\n\u001b[1;32m    191\u001b[0m             \u001b[0mI\u001b[0m\u001b[1;33m[\u001b[0m\u001b[0mr\u001b[0m\u001b[1;33m]\u001b[0m\u001b[1;33m[\u001b[0m\u001b[0ms\u001b[0m\u001b[1;33m]\u001b[0m\u001b[1;33m=\u001b[0m\u001b[0mI\u001b[0m\u001b[1;33m[\u001b[0m\u001b[0mr\u001b[0m\u001b[1;33m+\u001b[0m\u001b[1;36m1\u001b[0m\u001b[1;33m]\u001b[0m\u001b[1;33m[\u001b[0m\u001b[0ms\u001b[0m\u001b[1;33m]\u001b[0m\u001b[1;33m*\u001b[0m\u001b[1;33m(\u001b[0m\u001b[1;36m1\u001b[0m\u001b[1;33m-\u001b[0m\u001b[1;33m(\u001b[0m\u001b[0ms\u001b[0m\u001b[1;33m+\u001b[0m\u001b[1;36m1\u001b[0m\u001b[1;33m)\u001b[0m\u001b[1;33m/\u001b[0m\u001b[1;33m(\u001b[0m\u001b[0mn\u001b[0m\u001b[1;33m+\u001b[0m\u001b[0mr\u001b[0m\u001b[1;33m+\u001b[0m\u001b[1;36m2\u001b[0m\u001b[1;33m)\u001b[0m\u001b[1;33m)\u001b[0m\u001b[1;33m+\u001b[0m\u001b[0mI\u001b[0m\u001b[1;33m[\u001b[0m\u001b[0mr\u001b[0m\u001b[1;33m+\u001b[0m\u001b[1;36m1\u001b[0m\u001b[1;33m]\u001b[0m\u001b[1;33m[\u001b[0m\u001b[0ms\u001b[0m\u001b[1;33m+\u001b[0m\u001b[1;36m1\u001b[0m\u001b[1;33m]\u001b[0m\u001b[1;33m*\u001b[0m\u001b[1;33m(\u001b[0m\u001b[1;33m(\u001b[0m\u001b[0ms\u001b[0m\u001b[1;33m+\u001b[0m\u001b[1;36m1\u001b[0m\u001b[1;33m)\u001b[0m\u001b[1;33m/\u001b[0m\u001b[1;33m(\u001b[0m\u001b[0mn\u001b[0m\u001b[1;33m+\u001b[0m\u001b[0mr\u001b[0m\u001b[1;33m+\u001b[0m\u001b[1;36m2\u001b[0m\u001b[1;33m)\u001b[0m\u001b[1;33m)\u001b[0m\u001b[1;33m\u001b[0m\u001b[0m\n\u001b[1;32m    192\u001b[0m \u001b[1;33m\u001b[0m\u001b[0m\n\u001b[0;32m--> 193\u001b[0;31m     \u001b[0mE\u001b[0m\u001b[1;33m=\u001b[0m\u001b[0mnp\u001b[0m\u001b[1;33m.\u001b[0m\u001b[0mzeros\u001b[0m\u001b[1;33m(\u001b[0m\u001b[1;33m(\u001b[0m\u001b[0mn\u001b[0m\u001b[1;33m,\u001b[0m\u001b[0mn\u001b[0m\u001b[1;33m)\u001b[0m\u001b[1;33m)\u001b[0m\u001b[1;33m\u001b[0m\u001b[0m\n\u001b[0m\u001b[1;32m    194\u001b[0m     \u001b[0mE\u001b[0m\u001b[1;33m[\u001b[0m\u001b[1;33m-\u001b[0m\u001b[1;36m1\u001b[0m\u001b[1;33m]\u001b[0m\u001b[1;33m=\u001b[0m\u001b[0mU\u001b[0m\u001b[1;33m.\u001b[0m\u001b[0mcopy\u001b[0m\u001b[1;33m(\u001b[0m\u001b[1;33m)\u001b[0m\u001b[1;33m\u001b[0m\u001b[0m\n\u001b[1;32m    195\u001b[0m     \u001b[1;32mfor\u001b[0m \u001b[0mr\u001b[0m \u001b[1;32min\u001b[0m \u001b[0mrange\u001b[0m\u001b[1;33m(\u001b[0m\u001b[1;33m-\u001b[0m\u001b[1;36m2\u001b[0m\u001b[1;33m,\u001b[0m\u001b[1;33m-\u001b[0m\u001b[0mn\u001b[0m\u001b[1;33m-\u001b[0m\u001b[1;36m1\u001b[0m\u001b[1;33m,\u001b[0m\u001b[1;33m-\u001b[0m\u001b[1;36m1\u001b[0m\u001b[1;33m)\u001b[0m\u001b[1;33m:\u001b[0m\u001b[1;33m\u001b[0m\u001b[0m\n",
      "\u001b[0;31mMemoryError\u001b[0m: "
     ]
    }
   ],
   "source": [
    "N=7*8*9*5*11\n",
    "U=cmf.create_payoff_array(N,9,1)\n",
    "#print(U)\n",
    "D,E,dyn_hiring_rule=cmf.dynamic_solution_general_form(N,U)\n",
    "print(E[0][0])\n",
    "#vf.plot_decision_graph(D,if_latex=True)"
   ]
  },
  {
   "cell_type": "code",
   "execution_count": null,
   "metadata": {
    "collapsed": false
   },
   "outputs": [],
   "source": [
    "\n",
    "\n",
    "cmf.find_expected_nr_of_observed_candidates(N,D)/N"
   ]
  },
  {
   "cell_type": "code",
   "execution_count": null,
   "metadata": {
    "collapsed": false
   },
   "outputs": [],
   "source": [
    "100%1"
   ]
  },
  {
   "cell_type": "code",
   "execution_count": null,
   "metadata": {
    "collapsed": false
   },
   "outputs": [],
   "source": [
    "#vanderbei test\n",
    "for N in [2,3,4,5,6,7,8,9,10,19,20]:\n",
    "    k_0=np.floor(N/2)\n",
    "    print(N,k_0,k_0*(N-k_0)/N/(N-1),(N/2/(4*N/2-2)))"
   ]
  },
  {
   "cell_type": "code",
   "execution_count": null,
   "metadata": {
    "collapsed": false
   },
   "outputs": [],
   "source": [
    "def plot_figures(figure_id=1,N=10):\n",
    "    if figure_id==1:\n",
    "        #standarad problem solution\n",
    "        U=cmf.create_payoff_array(N,0,7)\n",
    "        print(U)\n",
    "        D,E,dyn_hiring_rule=cmf.dynamic_solution_general_form(N,U)\n",
    "        print(E[0])\n",
    "        vf.plot_decision_graph(D,if_latex=True)\n",
    "    if figure_id==2:\n",
    "        #2nd best solution\n",
    "        U=cmf.create_payoff_array(N,2,2)\n",
    "        print(U)\n",
    "        D,E,dyn_hiring_rule=cmf.dynamic_solution_general_form(N,U)\n",
    "        print(E[0])\n",
    "        vf.plot_decision_graph(D,if_latex=True)\n",
    "    if figure_id==3:\n",
    "        #Vanderbei's 2nd best solution\n",
    "        U=cmf.create_payoff_array(N,2,2)\n",
    "        print(U)\n",
    "        D,E,dyn_hiring_rule=cmf.dynamic_solution_general_form(N,U)\n",
    "        D[-2][0]=False\n",
    "        print(E[0])\n",
    "        D,E,dyn_hiring_rule=cmf.evaluate_the_strategy(N,U,D)\n",
    "        vf.plot_decision_graph(D,if_latex=True)\n",
    "    if figure_id==4:\n",
    "        #3rd best\n",
    "        U=cmf.create_payoff_array(N,2,3)\n",
    "        print(U)\n",
    "        D,E,dyn_hiring_rule=cmf.dynamic_solution_general_form(N,U)\n",
    "        D[-2][0]=False\n",
    "        D,E,dyn_hiring_rule=cmf.evaluate_the_strategy(N,U,D)\n",
    "        vf.plot_decision_graph(D,if_latex=True)    \n",
    "    if figure_id==5:\n",
    "        #4th best\n",
    "        U=cmf.create_payoff_array(N,2,4)\n",
    "        print(U)\n",
    "        D,E,dyn_hiring_rule=cmf.dynamic_solution_general_form(N,U)\n",
    "        print(E[0])\n",
    "        D[-2][0]=False\n",
    "        D,E,dyn_hiring_rule=cmf.evaluate_the_strategy(N,U,D)\n",
    "        vf.plot_decision_graph(D,if_latex=True)    \n",
    "    \n",
    "    \n",
    "plot_figures(5,50)"
   ]
  },
  {
   "cell_type": "code",
   "execution_count": null,
   "metadata": {
    "collapsed": false
   },
   "outputs": [],
   "source": [
    "for j in range(8):\n",
    "    x=False\n",
    "    for i in range(len(D)-1):\n",
    "        if i>=j:\n",
    "            #print(i,j,D[i][j])\n",
    "            if x!=D[i][j]:\n",
    "                x=D[i][j]\n",
    "                print(i+1,i/N,(i+1)/N,j+1)"
   ]
  },
  {
   "cell_type": "code",
   "execution_count": null,
   "metadata": {
    "collapsed": false
   },
   "outputs": [],
   "source": [
    "D"
   ]
  },
  {
   "cell_type": "markdown",
   "metadata": {
    "collapsed": false
   },
   "source": [
    "###### rel_ranks,ranks=dgf.generate_candidates_v2(N)"
   ]
  },
  {
   "cell_type": "code",
   "execution_count": null,
   "metadata": {
    "collapsed": false
   },
   "outputs": [],
   "source": [
    "pay_offs=[U[r-1] for r in ranks]\n",
    "pay_offs"
   ]
  },
  {
   "cell_type": "code",
   "execution_count": null,
   "metadata": {
    "collapsed": false
   },
   "outputs": [],
   "source": [
    "CD=[dgf.generate_candidates_v2(N) for i in range(100000)]\n",
    "sf.evaluate_the_hiring_strategy(N,U,D,CD)"
   ]
  },
  {
   "cell_type": "code",
   "execution_count": null,
   "metadata": {
    "collapsed": false
   },
   "outputs": [],
   "source": [
    "D[-4]"
   ]
  },
  {
   "cell_type": "code",
   "execution_count": null,
   "metadata": {
    "collapsed": false
   },
   "outputs": [],
   "source": [
    "E[-4]"
   ]
  },
  {
   "cell_type": "code",
   "execution_count": null,
   "metadata": {
    "collapsed": false
   },
   "outputs": [],
   "source": [
    "N=10\n",
    "cmf.create_payoff_array(5,5.2,2)"
   ]
  },
  {
   "cell_type": "code",
   "execution_count": null,
   "metadata": {
    "collapsed": false
   },
   "outputs": [],
   "source": [
    "problem=5\n",
    "k=1\n",
    "\n",
    "Ns=[N for N in range(max(5,k),2000,1)]#+[N for N in range(20,50,5)]\n",
    "xs,ys=[],[]\n",
    "\n",
    "for N in Ns:\n",
    "    if not (problem,k,N) in exp_utility:\n",
    "        print(N,'started')\n",
    "        U=cmf.create_payoff_array(N,problem,k)\n",
    "        D,E,dyn_hiring_rule=cmf.dynamic_solution_general_form(N,U)\n",
    "        exp_utility[(problem,k,N)]=E[0][0]\n",
    "\n",
    "    save_obj(exp_utility,'exp_utility')\n",
    "    \n",
    "    \n",
    "    \n",
    "if False:\n",
    "    xs.append(N)\n",
    "    ys.append(E[0][0])\n",
    "    plt.plot(xs,ys)\n",
    "    plt.scatter(xs,ys)\n",
    "\n",
    "    \n",
    "    xs,ys=[],[]\n",
    "    for N in Ns:\n",
    "        U=cmf.create_payoff_array(N,5.1,1)\n",
    "        D,E,dyn_hiring_rule=cmf.dynamic_solution_general_form(N,U)\n",
    "        xs.append(N)\n",
    "        ys.append(E[0][0])\n",
    "    plt.plot(xs,ys)\n",
    "    plt.scatter(xs,ys)\n",
    "\n",
    "\n",
    "    xs,ys=[],[]\n",
    "    for N in Ns:\n",
    "        U=cmf.create_payoff_array(N,5.2,1)\n",
    "        D,E,dyn_hiring_rule=cmf.dynamic_solution_general_form(N,U)\n",
    "        xs.append(N)\n",
    "        ys.append(E[0][0])\n",
    "    plt.plot(xs,ys)\n",
    "    plt.scatter(xs,ys)"
   ]
  },
  {
   "cell_type": "code",
   "execution_count": null,
   "metadata": {
    "collapsed": false
   },
   "outputs": [],
   "source": [
    "xs,ys=[],[]\n",
    "for i in exp_utility:\n",
    "    p,k_0,x=i\n",
    "    if p==problem and k_0==k and x<20:\n",
    "        xs.append(x)\n",
    "        ys.append(exp_utility[i])"
   ]
  },
  {
   "cell_type": "code",
   "execution_count": null,
   "metadata": {
    "collapsed": false
   },
   "outputs": [],
   "source": [
    "ys"
   ]
  },
  {
   "cell_type": "code",
   "execution_count": null,
   "metadata": {
    "collapsed": false
   },
   "outputs": [],
   "source": [
    "k=1\n",
    "asy=0.25\n",
    "for problem in [5]:\n",
    "    xs,ys=[],[]\n",
    "    for i in exp_utility:\n",
    "        p,k_0,x=i\n",
    "        if p==problem and k_0==k:\n",
    "            xs.append(x)\n",
    "            ys.append(exp_utility[i])\n",
    "    plt.plot(xs,ys)\n",
    "    #plt.plot(xs,[asy for x in xs])\n",
    "plt.xlabel('Number of Candidates (N)')\n",
    "plt.ylabel('Expected Utility')\n",
    "plt.title('Expected Utility vs Number of Candidates')\n",
    "#plt.legend(['Optimal Exp. Utility for N','Asympt. Optimal Exp. Utility (N -> Inf)'])"
   ]
  },
  {
   "cell_type": "code",
   "execution_count": null,
   "metadata": {
    "collapsed": false
   },
   "outputs": [],
   "source": [
    "from scipy.optimize import curve_fit\n",
    "def func(x, a, b, c, e):\n",
    "    return a * np.exp(-b * np.asarray(x)) + c+e/x\n",
    "\n",
    "def func2(x, a,b,c, e):\n",
    "    return c+e/x+a/x/x+b/x/x/x\n",
    "\n",
    "popt, pcov = curve_fit(func, xs, ys, bounds=(0, [5., 5., 0.5,5]))\n",
    "popt"
   ]
  },
  {
   "cell_type": "code",
   "execution_count": null,
   "metadata": {
    "collapsed": false
   },
   "outputs": [],
   "source": [
    "def dynamic_solution_general_form(n,U):\n",
    "    '''n: the number of candidates\n",
    "       U: payoffs for each candidate, U[x-1] is the payoff of best xth candidate. \n",
    "       \n",
    "       returns the strategy which maximizes the expected payoff\n",
    "       \n",
    "       For example: U=[1,0,0,.....] gives the classical problem. U=[-1,-2,..,-n] gives the expected rank minimization\n",
    "    '''\n",
    "    Decisions_Accept=[[True for i in range(j)] for j in range(1,n+1)]\n",
    "    I=np.zeros((n,n))\n",
    "    I[-1]=U.copy()\n",
    "    for r in range(-2,-n-1,-1):\n",
    "        for s in range(0,n+r+1):\n",
    "            I[r][s]=I[r+1][s]*(1-(s+1)/(n+r+2))+I[r+1][s+1]*((s+1)/(n+r+2))\n",
    "\n",
    "    E=np.zeros((n,n))\n",
    "    E[-1]=U.copy()\n",
    "    for r in range(-2,-n-1,-1):\n",
    "        expected_r=sum(E[r+1])/(n+r+2)\n",
    "        for s in range(0,n+r+1):\n",
    "            if I[r][s]<expected_r:\n",
    "                Decisions_Accept[r][s]=False\n",
    "                E[r][s]=expected_r\n",
    "            else:\n",
    "                E[r][s]=I[r][s]\n",
    "\n",
    "    return Decisions_Accept,E,I\n",
    "N=100\n",
    "\n",
    "import time\n",
    "start_time = time.time()\n",
    "U=cmf.create_payoff_array(N,1.1,1)\n",
    "#print(U)\n",
    "D,E,I=cmf.dynamic_solution_general_form_archived(N,U)\n",
    "\n",
    "print(N,\"Before:  --- %s seconds ---\" % (time.time() - start_time))\n",
    "\n",
    "\n",
    "start_time = time.time()\n",
    "U=cmf.create_payoff_array(N,1.1,1)\n",
    "#print(U)\n",
    "D,E,I=dynamic_solution_general_form(N,U)\n",
    "\n",
    "print(N,\"After:  --- %s seconds ---\" % (time.time() - start_time))\n",
    "\n",
    "print(E[0][0])\n",
    "#vf.plot_decision_graph(D,if_latex=True)"
   ]
  },
  {
   "cell_type": "code",
   "execution_count": null,
   "metadata": {
    "collapsed": false
   },
   "outputs": [],
   "source": [
    "I"
   ]
  },
  {
   "cell_type": "code",
   "execution_count": null,
   "metadata": {
    "collapsed": false
   },
   "outputs": [],
   "source": [
    "N=10\n",
    "Decisions_Accept=[[True for i in range(j)] for j in range(n)]\n",
    "I=np.zeros((n,n))\n",
    "I[-1]=U.copy()\n",
    "for r in range(-2,-n,-1):\n",
    "    for s in range(0,n+r+1):\n",
    "        I[r][s]=I[r+1][s]*(s+1)/(n+r+2)+I[r+1][s+1]*(1-(s+1)/(n+r+2))\n",
    "        \n",
    "E=np.zeros((n,n))\n",
    "E[-1]=U.copy()\n",
    "\n",
    "for r in range(-2,-n,-1):\n",
    "    expected_r=sum(E[r])/(n+r+2)\n",
    "    for s in range(0,n+r+1):\n",
    "        if I[r][s]<expected_r:\n",
    "            Decisions_accept[r][s]=False\n",
    "            E[r][s]=expected_r\n",
    "        else:\n",
    "            E[r][s]=I[r][s]\n",
    "        \n",
    "\n",
    "\n"
   ]
  },
  {
   "cell_type": "code",
   "execution_count": null,
   "metadata": {
    "collapsed": false
   },
   "outputs": [],
   "source": [
    "xs[100-xs[0]]"
   ]
  },
  {
   "cell_type": "code",
   "execution_count": null,
   "metadata": {
    "collapsed": false
   },
   "outputs": [],
   "source": [
    "min_ind=20\n",
    "max_ind=101-xs[0]\n",
    "#popt, pcov = curve_fit(func, xs[min_ind:max_ind], ys[min_ind:max_ind], bounds=(0, [1, 1, 2,2]))\n",
    "popt, pcov = curve_fit(func2, xs[min_ind:max_ind], ys[min_ind:max_ind], bounds=(0, [2,2,2,2]))\n",
    "plt.plot(xs,ys)\n",
    "#plt.scatter(xs,ys)\n",
    "print(popt)\n",
    "plt.plot(xs, func2(xs, *popt))\n",
    "#plt.plot(xs, func(xs, *np.asarray([0,0,0.1919,0.1919])))\n",
    "\n",
    "plt.xlabel('Number of Candidates (N)')\n",
    "plt.ylabel('Expected Utility')\n",
    "plt.title('Expected Utility vs Number of Candidates')\n",
    "#plt.legend(['Optimal Exp. Utility for N','Asympt. Optimal Exp. Utility (N -> Inf)'])\n",
    "#plt.legend(['Optimal Exp. Utility for N'])"
   ]
  },
  {
   "cell_type": "code",
   "execution_count": null,
   "metadata": {
    "collapsed": false
   },
   "outputs": [],
   "source": [
    "ys-func2(xs, *popt)"
   ]
  },
  {
   "cell_type": "code",
   "execution_count": null,
   "metadata": {
    "collapsed": false
   },
   "outputs": [],
   "source": [
    "min_ind=81-xs[0]\n",
    "max_ind=101-xs[0]\n",
    "popt, pcov = curve_fit(func, xs[min_ind:max_ind], ys[min_ind:max_ind], bounds=(0, [1, 1, 2,2]))\n",
    "plt.plot(xs[0:],ys[0:])\n",
    "#plt.scatter(xs,ys)\n",
    "print(popt)\n",
    "plt.plot(xs[0:], func(xs[0:], *popt))\n",
    "#plt.plot(xs, func(xs, *np.asarray([0,0,0.1919,0.1919])))\n",
    "\n",
    "plt.xlabel('Number of Candidates (N)')\n",
    "plt.ylabel('Expected Utility')\n",
    "plt.title('Expected Utility vs Number of Candidates')\n",
    "plt.legend(['Optimal Exp. Utility for N','Approximated Exp. Utility'])\n",
    "#plt.legend(['Optimal Exp. Utility for N'])"
   ]
  },
  {
   "cell_type": "code",
   "execution_count": null,
   "metadata": {
    "collapsed": false
   },
   "outputs": [],
   "source": [
    "xs[min_ind:max_ind]"
   ]
  },
  {
   "cell_type": "code",
   "execution_count": null,
   "metadata": {
    "collapsed": true
   },
   "outputs": [],
   "source": [
    "def take_derivative(x,y):\n",
    "    return x[0:-1],[(y[i+1]-y[i])/(x[i+1]-x[i]) for i in range(len(y)-1)]"
   ]
  },
  {
   "cell_type": "code",
   "execution_count": null,
   "metadata": {
    "collapsed": false
   },
   "outputs": [],
   "source": [
    "dx,dy=take_derivative(xs,ys)\n",
    "d2x,d2y=take_derivative(dx,dy)\n",
    "logy=[np.log(i) for i in ys]\n",
    "plt.plot(dx,dy)"
   ]
  },
  {
   "cell_type": "code",
   "execution_count": null,
   "metadata": {
    "collapsed": false
   },
   "outputs": [],
   "source": [
    "d2y"
   ]
  },
  {
   "cell_type": "code",
   "execution_count": null,
   "metadata": {
    "collapsed": false
   },
   "outputs": [],
   "source": [
    "dy[-1]/0.2+ys[-1]"
   ]
  },
  {
   "cell_type": "code",
   "execution_count": null,
   "metadata": {
    "collapsed": false
   },
   "outputs": [],
   "source": [
    "[ys[i+1]-ys[i] for i in range(len(ys)-1)]"
   ]
  },
  {
   "cell_type": "code",
   "execution_count": null,
   "metadata": {
    "collapsed": false
   },
   "outputs": [],
   "source": [
    "local_mins=[[],[]]\n",
    "local_maxs=[[],[]]\n",
    "\n",
    "for i in range(1,len(xs)-1):\n",
    "    if ys[i]<ys[i+1] and ys[i]<ys[i-1]:\n",
    "        local_mins[0].append(xs[i])\n",
    "        local_mins[1].append(ys[i])\n",
    "    if ys[i]>ys[i+1] and ys[i]>ys[i-1]:\n",
    "        local_maxs[0].append(xs[i])\n",
    "        local_maxs[1].append(ys[i])\n",
    "        \n",
    "plt.plot(xs,ys)\n",
    "plt.scatter(xs,ys)\n",
    "        \n",
    "plt.plot(local_mins[0],local_mins[1])\n",
    "plt.scatter(local_mins[0],local_mins[1])\n",
    "plt.plot(local_maxs[0],local_maxs[1])\n",
    "plt.scatter(local_maxs[0],local_maxs[1])"
   ]
  },
  {
   "cell_type": "code",
   "execution_count": null,
   "metadata": {
    "collapsed": false
   },
   "outputs": [],
   "source": [
    "n=50\n",
    "N=n\n",
    "list_of_Ds=[[[False if np.random.uniform()<1 else True for i in range(j)] for j in range(1,n)]+[[True for i in range(n)]] for d in range(10)]\n",
    "U=cmf.create_payoff_array(N,1,3)\n",
    "print(U)"
   ]
  },
  {
   "cell_type": "code",
   "execution_count": null,
   "metadata": {
    "collapsed": false
   },
   "outputs": [],
   "source": [
    "vf.plot_decision_graph(list_of_Ds[0])"
   ]
  },
  {
   "cell_type": "code",
   "execution_count": null,
   "metadata": {
    "collapsed": false
   },
   "outputs": [],
   "source": [
    "D=list_of_Ds[0]\n",
    "CD=[generate_candidates_with_fixed_point(N,i+1,j+1) for i in range(n-2,-1,-1) for j in range(i+1) for k in range(10)]\n",
    "for b in range(10):\n",
    "    for i in range(n-1,-1,-1):\n",
    "        for j in range(i):\n",
    "            p_0=sf.evaluate_the_hiring_strategy(n,U,D,CD)\n",
    "\n",
    "            #try to negate one D[i][rel_ranks[i]-1]\n",
    "            D[i][j]=not D[i][j]\n",
    "\n",
    "            p_1=sf.evaluate_the_hiring_strategy(n,U,D,CD)\n",
    "            print(p_0,p_1)\n",
    "            if p_0>p_1:\n",
    "                D[i][j]=not D[i][j] "
   ]
  },
  {
   "cell_type": "code",
   "execution_count": null,
   "metadata": {
    "collapsed": false
   },
   "outputs": [],
   "source": [
    "CD"
   ]
  },
  {
   "cell_type": "code",
   "execution_count": null,
   "metadata": {
    "collapsed": false
   },
   "outputs": [],
   "source": [
    "[(i,j,k)  for i in range(n-2,-1,-1) for j in range(i) for k in range(2)]"
   ]
  },
  {
   "cell_type": "code",
   "execution_count": null,
   "metadata": {
    "collapsed": false
   },
   "outputs": [],
   "source": [
    "CD=[dgf.generate_candidates_v2(N) for i in range(1000)]\n",
    "sf.evaluate_the_hiring_strategy(n,U,D,CD)"
   ]
  },
  {
   "cell_type": "code",
   "execution_count": null,
   "metadata": {
    "collapsed": false
   },
   "outputs": [],
   "source": [
    "CD"
   ]
  },
  {
   "cell_type": "code",
   "execution_count": null,
   "metadata": {
    "collapsed": false
   },
   "outputs": [],
   "source": [
    "ranks"
   ]
  },
  {
   "cell_type": "code",
   "execution_count": null,
   "metadata": {
    "collapsed": false
   },
   "outputs": [],
   "source": [
    "D"
   ]
  },
  {
   "cell_type": "code",
   "execution_count": null,
   "metadata": {
    "collapsed": true
   },
   "outputs": [],
   "source": [
    "def generate_candidates_with_fixed_point(n,r,s):\n",
    "    '''\n",
    "    Creates a list of candidates with their rank, and also outputs the relative ranks\n",
    "    \n",
    "    Unlike the first version it randomly generates the relative ranks, then calculate the actual ranks. \n",
    "    That's why it is much faster for n>100\n",
    "    \n",
    "    Parameters:\n",
    "    n: number of candidates\n",
    "    r: rth candidate\n",
    "    s: relative rank of rth candidate\n",
    "    \n",
    "    Returns:\n",
    "    rel_ranks: relative ranks of the candidates\n",
    "    b: ranks of the candidates\n",
    "    '''\n",
    "    a=[i for i in range(n)]\n",
    "    rel_ranks=[np.random.randint(0,j+1) for j in range(n)]\n",
    "    rel_ranks[r-1]=s-1\n",
    "    b=[0 for i in range(n)]\n",
    "    for i in range(n-1,-1,-1):\n",
    "        b[i]=a[rel_ranks[i]]+1\n",
    "        del a[rel_ranks[i]]\n",
    "    return [r+1 for r in rel_ranks],b"
   ]
  },
  {
   "cell_type": "code",
   "execution_count": null,
   "metadata": {
    "collapsed": false
   },
   "outputs": [],
   "source": [
    "generate_candidates_with_fixed_point(10,9,1)"
   ]
  },
  {
   "cell_type": "code",
   "execution_count": null,
   "metadata": {
    "collapsed": false
   },
   "outputs": [],
   "source": [
    "df=pd.read_csv('data/apple_stock_data.csv',parse_dates=[0,1])\n",
    "df"
   ]
  },
  {
   "cell_type": "code",
   "execution_count": null,
   "metadata": {
    "collapsed": false
   },
   "outputs": [],
   "source": [
    "df['val']=df.iloc[:,1].apply(lambda x:float(x.split('$')[1]))\n",
    "df"
   ]
  },
  {
   "cell_type": "code",
   "execution_count": null,
   "metadata": {
    "collapsed": false
   },
   "outputs": [],
   "source": []
  },
  {
   "cell_type": "code",
   "execution_count": null,
   "metadata": {
    "collapsed": false
   },
   "outputs": [],
   "source": [
    "file_name='cisco_stock_data'\n",
    "n,m,interv=20,1500,1\n",
    "last_data_date='2019-01-01'\n",
    "CDs=dgf.generate_multi_data_from_the_stock_data(n,m,interv,last_data_date,file_name)\n",
    "\n",
    "file_name='cisco_stock_data'\n",
    "n,m,interv=20,300,1\n",
    "last_data_date='2020-05-01'\n",
    "CDs_Test=dgf.generate_multi_data_from_the_stock_data(n,m,interv,last_data_date,file_name)\n"
   ]
  },
  {
   "cell_type": "code",
   "execution_count": null,
   "metadata": {
    "collapsed": true
   },
   "outputs": [],
   "source": [
    "N=n\n",
    "U=cmf.create_payoff_array(N,0,1)\n",
    "#U=[1-u for u in U]\n",
    "D_r,E,dyn_hiring_rule=cmf.dynamic_solution_general_form(N,U)"
   ]
  },
  {
   "cell_type": "code",
   "execution_count": null,
   "metadata": {
    "collapsed": false
   },
   "outputs": [],
   "source": [
    "vf.plot_decision_graph(D_r)"
   ]
  },
  {
   "cell_type": "code",
   "execution_count": null,
   "metadata": {
    "collapsed": false
   },
   "outputs": [],
   "source": [
    "#conver CDs:\n",
    "CD=[(cd[0],cd[1]) for cd in CDs]\n",
    "\n",
    "\n",
    "\n",
    "D=[[False if np.random.uniform()<1 else True for i in range(j)] for j in range(1,n)]+[[True for i in range(n)]]\n",
    "for b in range(10):\n",
    "    for i in range(n-1,-1,-1):\n",
    "        for j in range(i):\n",
    "            p_0=sf.evaluate_the_hiring_strategy(n,U,D,CD)\n",
    "\n",
    "            #try to negate one D[i][rel_ranks[i]-1]\n",
    "            D[i][j]=not D[i][j]\n",
    "\n",
    "            p_1=sf.evaluate_the_hiring_strategy(n,U,D,CD)\n",
    "            print(p_0,p_1)\n",
    "            if p_0>=p_1:\n",
    "                D[i][j]=not D[i][j] "
   ]
  },
  {
   "cell_type": "code",
   "execution_count": null,
   "metadata": {
    "collapsed": false
   },
   "outputs": [],
   "source": [
    "vf.plot_decision_graph(D)"
   ]
  },
  {
   "cell_type": "code",
   "execution_count": null,
   "metadata": {
    "collapsed": false
   },
   "outputs": [],
   "source": [
    "[sf.evaluate_the_hiring_strategy_on_stocks(n,U,Dx,CDs_Test) for Dx in [[[True]],D_r,D]]"
   ]
  },
  {
   "cell_type": "code",
   "execution_count": null,
   "metadata": {
    "collapsed": true
   },
   "outputs": [],
   "source": []
  },
  {
   "cell_type": "code",
   "execution_count": null,
   "metadata": {
    "collapsed": true
   },
   "outputs": [],
   "source": []
  },
  {
   "cell_type": "code",
   "execution_count": null,
   "metadata": {
    "collapsed": true
   },
   "outputs": [],
   "source": []
  },
  {
   "cell_type": "code",
   "execution_count": null,
   "metadata": {
    "collapsed": true
   },
   "outputs": [],
   "source": []
  },
  {
   "cell_type": "code",
   "execution_count": null,
   "metadata": {
    "collapsed": true
   },
   "outputs": [],
   "source": []
  },
  {
   "cell_type": "code",
   "execution_count": null,
   "metadata": {
    "collapsed": false
   },
   "outputs": [],
   "source": [
    "file_name='apple_stock_data'\n",
    "df=pd.read_csv('data/'+file_name+'.csv',parse_dates=[0,1])\n",
    "generate_data_from_the_stock_data(10,'2020-02-17',df)"
   ]
  },
  {
   "cell_type": "code",
   "execution_count": null,
   "metadata": {
    "collapsed": true
   },
   "outputs": [],
   "source": []
  },
  {
   "cell_type": "code",
   "execution_count": null,
   "metadata": {
    "collapsed": false
   },
   "outputs": [],
   "source": [
    "last_data_date='2020-02-17'\n",
    "interv=10\n",
    "dt.strftime(dt.strptime(last_data_date,'%Y-%m-%d')-timedelta(days=interv),'%Y-%m-%d')"
   ]
  },
  {
   "cell_type": "code",
   "execution_count": null,
   "metadata": {
    "collapsed": false
   },
   "outputs": [],
   "source": [
    "file_name='apple_stock_data'\n",
    "n,m,interv=10,12,10\n",
    "last_data_date='2020-05-01'\n",
    "CDs=dgf.generate_multi_data_from_the_stock_data(n,m,interv,last_data_date,file_name)"
   ]
  },
  {
   "cell_type": "code",
   "execution_count": null,
   "metadata": {
    "collapsed": false
   },
   "outputs": [],
   "source": [
    "U"
   ]
  },
  {
   "cell_type": "code",
   "execution_count": null,
   "metadata": {
    "collapsed": false
   },
   "outputs": [],
   "source": [
    "def find_food_loss(x,rate_x,y,rate_y,n):\n",
    "    decay=0.76\n",
    "    #x finishes in ... seconds\n",
    "    decay_x=decay\n",
    "    t_x=x/(rate_x*n+decay_x)\n",
    "    \n",
    "    #y finishes in ... seconds since beginning\n",
    "    decay_y=decay\n",
    "    t_y=t_x+(y-decay_y*t_x)/(rate_y*n+decay_y)\n",
    "    return t_x*decay_x+t_y*decay_y\n",
    "\n"
   ]
  },
  {
   "cell_type": "code",
   "execution_count": null,
   "metadata": {
    "collapsed": false
   },
   "outputs": [],
   "source": [
    "x=100\n",
    "y=340\n",
    "n=7\n",
    "find_food_loss(x,0.33,y,0.41,n)-find_food_loss(y,0.41,x,0.33,n)"
   ]
  },
  {
   "cell_type": "code",
   "execution_count": null,
   "metadata": {
    "collapsed": false
   },
   "outputs": [],
   "source": [
    "x=50\n",
    "y=340\n",
    "n=7\n",
    "find_food_loss(x,0.33,y,0.41,n)-find_food_loss(y,0.41,x,0.33,n)"
   ]
  },
  {
   "cell_type": "code",
   "execution_count": null,
   "metadata": {
    "collapsed": false
   },
   "outputs": [],
   "source": [
    "440-find_food_loss(x,y,n)"
   ]
  },
  {
   "cell_type": "code",
   "execution_count": null,
   "metadata": {
    "collapsed": false
   },
   "outputs": [],
   "source": []
  },
  {
   "cell_type": "code",
   "execution_count": null,
   "metadata": {
    "collapsed": true
   },
   "outputs": [],
   "source": []
  }
 ],
 "metadata": {
  "kernelspec": {
   "display_name": "Python 3",
   "language": "python",
   "name": "python3"
  },
  "language_info": {
   "codemirror_mode": {
    "name": "ipython",
    "version": 3
   },
   "file_extension": ".py",
   "mimetype": "text/x-python",
   "name": "python",
   "nbconvert_exporter": "python",
   "pygments_lexer": "ipython3",
   "version": "3.6.0"
  }
 },
 "nbformat": 4,
 "nbformat_minor": 2
}
